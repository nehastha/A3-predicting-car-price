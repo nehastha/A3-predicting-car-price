{
 "cells": [
  {
   "cell_type": "markdown",
   "metadata": {},
   "source": [
    "## A3 Car Price Prediction"
   ]
  },
  {
   "cell_type": "markdown",
   "metadata": {},
   "source": [
    "#### 1. Importing Libraries"
   ]
  },
  {
   "cell_type": "code",
   "execution_count": 1,
   "metadata": {},
   "outputs": [],
   "source": [
    "# importing libraries\n",
    "import numpy as np\n",
    "import pandas as pd\n",
    "import seaborn as sns\n",
    "import matplotlib.pyplot as plt \n",
    "import warnings\n",
    "warnings.filterwarnings('ignore')"
   ]
  },
  {
   "cell_type": "code",
   "execution_count": 2,
   "metadata": {},
   "outputs": [
    {
     "data": {
      "text/plain": [
       "('2.0.2', '2.2.3', '0.13.2', '3.9.4')"
      ]
     },
     "execution_count": 2,
     "metadata": {},
     "output_type": "execute_result"
    }
   ],
   "source": [
    "import matplotlib\n",
    "np.__version__, pd.__version__, sns.__version__, matplotlib.__version__"
   ]
  },
  {
   "cell_type": "markdown",
   "metadata": {},
   "source": [
    "#### 2. Load Data"
   ]
  },
  {
   "cell_type": "code",
   "execution_count": 3,
   "metadata": {},
   "outputs": [],
   "source": [
    "df = pd.read_csv('./data/Cars.csv')"
   ]
  },
  {
   "cell_type": "code",
   "execution_count": 4,
   "metadata": {},
   "outputs": [
    {
     "data": {
      "text/plain": [
       "(8128, 13)"
      ]
     },
     "execution_count": 4,
     "metadata": {},
     "output_type": "execute_result"
    }
   ],
   "source": [
    "df.shape"
   ]
  },
  {
   "cell_type": "code",
   "execution_count": 5,
   "metadata": {},
   "outputs": [
    {
     "data": {
      "text/html": [
       "<div>\n",
       "<style scoped>\n",
       "    .dataframe tbody tr th:only-of-type {\n",
       "        vertical-align: middle;\n",
       "    }\n",
       "\n",
       "    .dataframe tbody tr th {\n",
       "        vertical-align: top;\n",
       "    }\n",
       "\n",
       "    .dataframe thead th {\n",
       "        text-align: right;\n",
       "    }\n",
       "</style>\n",
       "<table border=\"1\" class=\"dataframe\">\n",
       "  <thead>\n",
       "    <tr style=\"text-align: right;\">\n",
       "      <th></th>\n",
       "      <th>name</th>\n",
       "      <th>year</th>\n",
       "      <th>selling_price</th>\n",
       "      <th>km_driven</th>\n",
       "      <th>fuel</th>\n",
       "      <th>seller_type</th>\n",
       "      <th>transmission</th>\n",
       "      <th>owner</th>\n",
       "      <th>mileage</th>\n",
       "      <th>engine</th>\n",
       "      <th>max_power</th>\n",
       "      <th>torque</th>\n",
       "      <th>seats</th>\n",
       "    </tr>\n",
       "  </thead>\n",
       "  <tbody>\n",
       "    <tr>\n",
       "      <th>0</th>\n",
       "      <td>Maruti Swift Dzire VDI</td>\n",
       "      <td>2014</td>\n",
       "      <td>450000</td>\n",
       "      <td>145500</td>\n",
       "      <td>Diesel</td>\n",
       "      <td>Individual</td>\n",
       "      <td>Manual</td>\n",
       "      <td>First Owner</td>\n",
       "      <td>23.4 kmpl</td>\n",
       "      <td>1248 CC</td>\n",
       "      <td>74 bhp</td>\n",
       "      <td>190Nm@ 2000rpm</td>\n",
       "      <td>5.0</td>\n",
       "    </tr>\n",
       "    <tr>\n",
       "      <th>1</th>\n",
       "      <td>Skoda Rapid 1.5 TDI Ambition</td>\n",
       "      <td>2014</td>\n",
       "      <td>370000</td>\n",
       "      <td>120000</td>\n",
       "      <td>Diesel</td>\n",
       "      <td>Individual</td>\n",
       "      <td>Manual</td>\n",
       "      <td>Second Owner</td>\n",
       "      <td>21.14 kmpl</td>\n",
       "      <td>1498 CC</td>\n",
       "      <td>103.52 bhp</td>\n",
       "      <td>250Nm@ 1500-2500rpm</td>\n",
       "      <td>5.0</td>\n",
       "    </tr>\n",
       "    <tr>\n",
       "      <th>2</th>\n",
       "      <td>Honda City 2017-2020 EXi</td>\n",
       "      <td>2006</td>\n",
       "      <td>158000</td>\n",
       "      <td>140000</td>\n",
       "      <td>Petrol</td>\n",
       "      <td>Individual</td>\n",
       "      <td>Manual</td>\n",
       "      <td>Third Owner</td>\n",
       "      <td>17.7 kmpl</td>\n",
       "      <td>1497 CC</td>\n",
       "      <td>78 bhp</td>\n",
       "      <td>12.7@ 2,700(kgm@ rpm)</td>\n",
       "      <td>5.0</td>\n",
       "    </tr>\n",
       "    <tr>\n",
       "      <th>3</th>\n",
       "      <td>Hyundai i20 Sportz Diesel</td>\n",
       "      <td>2010</td>\n",
       "      <td>225000</td>\n",
       "      <td>127000</td>\n",
       "      <td>Diesel</td>\n",
       "      <td>Individual</td>\n",
       "      <td>Manual</td>\n",
       "      <td>First Owner</td>\n",
       "      <td>23.0 kmpl</td>\n",
       "      <td>1396 CC</td>\n",
       "      <td>90 bhp</td>\n",
       "      <td>22.4 kgm at 1750-2750rpm</td>\n",
       "      <td>5.0</td>\n",
       "    </tr>\n",
       "    <tr>\n",
       "      <th>4</th>\n",
       "      <td>Maruti Swift VXI BSIII</td>\n",
       "      <td>2007</td>\n",
       "      <td>130000</td>\n",
       "      <td>120000</td>\n",
       "      <td>Petrol</td>\n",
       "      <td>Individual</td>\n",
       "      <td>Manual</td>\n",
       "      <td>First Owner</td>\n",
       "      <td>16.1 kmpl</td>\n",
       "      <td>1298 CC</td>\n",
       "      <td>88.2 bhp</td>\n",
       "      <td>11.5@ 4,500(kgm@ rpm)</td>\n",
       "      <td>5.0</td>\n",
       "    </tr>\n",
       "  </tbody>\n",
       "</table>\n",
       "</div>"
      ],
      "text/plain": [
       "                           name  year  selling_price  km_driven    fuel  \\\n",
       "0        Maruti Swift Dzire VDI  2014         450000     145500  Diesel   \n",
       "1  Skoda Rapid 1.5 TDI Ambition  2014         370000     120000  Diesel   \n",
       "2      Honda City 2017-2020 EXi  2006         158000     140000  Petrol   \n",
       "3     Hyundai i20 Sportz Diesel  2010         225000     127000  Diesel   \n",
       "4        Maruti Swift VXI BSIII  2007         130000     120000  Petrol   \n",
       "\n",
       "  seller_type transmission         owner     mileage   engine   max_power  \\\n",
       "0  Individual       Manual   First Owner   23.4 kmpl  1248 CC      74 bhp   \n",
       "1  Individual       Manual  Second Owner  21.14 kmpl  1498 CC  103.52 bhp   \n",
       "2  Individual       Manual   Third Owner   17.7 kmpl  1497 CC      78 bhp   \n",
       "3  Individual       Manual   First Owner   23.0 kmpl  1396 CC      90 bhp   \n",
       "4  Individual       Manual   First Owner   16.1 kmpl  1298 CC    88.2 bhp   \n",
       "\n",
       "                     torque  seats  \n",
       "0            190Nm@ 2000rpm    5.0  \n",
       "1       250Nm@ 1500-2500rpm    5.0  \n",
       "2     12.7@ 2,700(kgm@ rpm)    5.0  \n",
       "3  22.4 kgm at 1750-2750rpm    5.0  \n",
       "4     11.5@ 4,500(kgm@ rpm)    5.0  "
      ]
     },
     "execution_count": 5,
     "metadata": {},
     "output_type": "execute_result"
    }
   ],
   "source": [
    "# checking the data in the dataset; head()--> 5 data from top\n",
    "df.head()\n"
   ]
  },
  {
   "cell_type": "code",
   "execution_count": 6,
   "metadata": {},
   "outputs": [
    {
     "name": "stdout",
     "output_type": "stream",
     "text": [
      "<class 'pandas.core.frame.DataFrame'>\n",
      "RangeIndex: 8128 entries, 0 to 8127\n",
      "Data columns (total 13 columns):\n",
      " #   Column         Non-Null Count  Dtype  \n",
      "---  ------         --------------  -----  \n",
      " 0   name           8128 non-null   object \n",
      " 1   year           8128 non-null   int64  \n",
      " 2   selling_price  8128 non-null   int64  \n",
      " 3   km_driven      8128 non-null   int64  \n",
      " 4   fuel           8128 non-null   object \n",
      " 5   seller_type    8128 non-null   object \n",
      " 6   transmission   8128 non-null   object \n",
      " 7   owner          8128 non-null   object \n",
      " 8   mileage        7907 non-null   object \n",
      " 9   engine         7907 non-null   object \n",
      " 10  max_power      7913 non-null   object \n",
      " 11  torque         7906 non-null   object \n",
      " 12  seats          7907 non-null   float64\n",
      "dtypes: float64(1), int64(3), object(9)\n",
      "memory usage: 825.6+ KB\n"
     ]
    }
   ],
   "source": [
    "# summary of the dataframe\n",
    "df.info()"
   ]
  },
  {
   "cell_type": "code",
   "execution_count": 7,
   "metadata": {},
   "outputs": [
    {
     "data": {
      "text/html": [
       "<div>\n",
       "<style scoped>\n",
       "    .dataframe tbody tr th:only-of-type {\n",
       "        vertical-align: middle;\n",
       "    }\n",
       "\n",
       "    .dataframe tbody tr th {\n",
       "        vertical-align: top;\n",
       "    }\n",
       "\n",
       "    .dataframe thead th {\n",
       "        text-align: right;\n",
       "    }\n",
       "</style>\n",
       "<table border=\"1\" class=\"dataframe\">\n",
       "  <thead>\n",
       "    <tr style=\"text-align: right;\">\n",
       "      <th></th>\n",
       "      <th>year</th>\n",
       "      <th>selling_price</th>\n",
       "      <th>km_driven</th>\n",
       "      <th>seats</th>\n",
       "    </tr>\n",
       "  </thead>\n",
       "  <tbody>\n",
       "    <tr>\n",
       "      <th>count</th>\n",
       "      <td>8128.000000</td>\n",
       "      <td>8.128000e+03</td>\n",
       "      <td>8.128000e+03</td>\n",
       "      <td>7907.000000</td>\n",
       "    </tr>\n",
       "    <tr>\n",
       "      <th>mean</th>\n",
       "      <td>2013.804011</td>\n",
       "      <td>6.382718e+05</td>\n",
       "      <td>6.981951e+04</td>\n",
       "      <td>5.416719</td>\n",
       "    </tr>\n",
       "    <tr>\n",
       "      <th>std</th>\n",
       "      <td>4.044249</td>\n",
       "      <td>8.062534e+05</td>\n",
       "      <td>5.655055e+04</td>\n",
       "      <td>0.959588</td>\n",
       "    </tr>\n",
       "    <tr>\n",
       "      <th>min</th>\n",
       "      <td>1983.000000</td>\n",
       "      <td>2.999900e+04</td>\n",
       "      <td>1.000000e+00</td>\n",
       "      <td>2.000000</td>\n",
       "    </tr>\n",
       "    <tr>\n",
       "      <th>25%</th>\n",
       "      <td>2011.000000</td>\n",
       "      <td>2.549990e+05</td>\n",
       "      <td>3.500000e+04</td>\n",
       "      <td>5.000000</td>\n",
       "    </tr>\n",
       "    <tr>\n",
       "      <th>50%</th>\n",
       "      <td>2015.000000</td>\n",
       "      <td>4.500000e+05</td>\n",
       "      <td>6.000000e+04</td>\n",
       "      <td>5.000000</td>\n",
       "    </tr>\n",
       "    <tr>\n",
       "      <th>75%</th>\n",
       "      <td>2017.000000</td>\n",
       "      <td>6.750000e+05</td>\n",
       "      <td>9.800000e+04</td>\n",
       "      <td>5.000000</td>\n",
       "    </tr>\n",
       "    <tr>\n",
       "      <th>max</th>\n",
       "      <td>2020.000000</td>\n",
       "      <td>1.000000e+07</td>\n",
       "      <td>2.360457e+06</td>\n",
       "      <td>14.000000</td>\n",
       "    </tr>\n",
       "  </tbody>\n",
       "</table>\n",
       "</div>"
      ],
      "text/plain": [
       "              year  selling_price     km_driven        seats\n",
       "count  8128.000000   8.128000e+03  8.128000e+03  7907.000000\n",
       "mean   2013.804011   6.382718e+05  6.981951e+04     5.416719\n",
       "std       4.044249   8.062534e+05  5.655055e+04     0.959588\n",
       "min    1983.000000   2.999900e+04  1.000000e+00     2.000000\n",
       "25%    2011.000000   2.549990e+05  3.500000e+04     5.000000\n",
       "50%    2015.000000   4.500000e+05  6.000000e+04     5.000000\n",
       "75%    2017.000000   6.750000e+05  9.800000e+04     5.000000\n",
       "max    2020.000000   1.000000e+07  2.360457e+06    14.000000"
      ]
     },
     "execution_count": 7,
     "metadata": {},
     "output_type": "execute_result"
    }
   ],
   "source": [
    "# to understand the mathematical values of the columns\n",
    "df.describe()"
   ]
  },
  {
   "cell_type": "markdown",
   "metadata": {},
   "source": [
    "#### Data Cleaning and Pre Processing"
   ]
  },
  {
   "cell_type": "code",
   "execution_count": 8,
   "metadata": {},
   "outputs": [
    {
     "data": {
      "text/plain": [
       "array(['First Owner', 'Second Owner', 'Third Owner',\n",
       "       'Fourth & Above Owner', 'Test Drive Car'], dtype=object)"
      ]
     },
     "execution_count": 8,
     "metadata": {},
     "output_type": "execute_result"
    }
   ],
   "source": [
    "# checking unique values for the owner column\n",
    "df['owner'].unique()"
   ]
  },
  {
   "cell_type": "code",
   "execution_count": 9,
   "metadata": {},
   "outputs": [
    {
     "data": {
      "text/plain": [
       "array([1, 2, 3, 4, 5])"
      ]
     },
     "execution_count": 9,
     "metadata": {},
     "output_type": "execute_result"
    }
   ],
   "source": [
    "# mapping 'owner' column to appropriate values\n",
    "owner_map = {\n",
    "    'First Owner': 1,\n",
    "    'Second Owner': 2,\n",
    "    'Third Owner': 3,\n",
    "    'Fourth & Above Owner': 4,\n",
    "    'Test Drive Car': 5\n",
    "}\n",
    "\n",
    "df['owner'] = df['owner'].map(owner_map)\n",
    "df['owner'].unique()"
   ]
  },
  {
   "cell_type": "code",
   "execution_count": 10,
   "metadata": {},
   "outputs": [
    {
     "data": {
      "text/plain": [
       "array(['Diesel', 'Petrol', 'LPG', 'CNG'], dtype=object)"
      ]
     },
     "execution_count": 10,
     "metadata": {},
     "output_type": "execute_result"
    }
   ],
   "source": [
    "# checking unique values for the fuel column\n",
    "df['fuel'].unique()"
   ]
  },
  {
   "cell_type": "code",
   "execution_count": 11,
   "metadata": {},
   "outputs": [
    {
     "data": {
      "text/plain": [
       "array(['Diesel', 'Petrol'], dtype=object)"
      ]
     },
     "execution_count": 11,
     "metadata": {},
     "output_type": "execute_result"
    }
   ],
   "source": [
    "# selecting only Diesel and Petrol cars\n",
    "df.drop(df[(df['fuel'] == 'LPG') | (df['fuel'] == 'CNG')].index, inplace = True)\n",
    "df['fuel'].unique()"
   ]
  },
  {
   "cell_type": "code",
   "execution_count": 12,
   "metadata": {},
   "outputs": [
    {
     "data": {
      "text/plain": [
       "0     23.4 \n",
       "1    21.14 \n",
       "2     17.7 \n",
       "3     23.0 \n",
       "4     16.1 \n",
       "Name: mileage, dtype: object"
      ]
     },
     "execution_count": 12,
     "metadata": {},
     "output_type": "execute_result"
    }
   ],
   "source": [
    "# removing \"kmpl\" from mileage column\n",
    "df['mileage'] = df['mileage'].str.replace('kmpl', '')\n",
    "df['mileage'].head()"
   ]
  },
  {
   "cell_type": "code",
   "execution_count": 13,
   "metadata": {},
   "outputs": [
    {
     "data": {
      "text/plain": [
       "0    23.40\n",
       "1    21.14\n",
       "2    17.70\n",
       "3    23.00\n",
       "4    16.10\n",
       "Name: mileage, dtype: float64"
      ]
     },
     "execution_count": 13,
     "metadata": {},
     "output_type": "execute_result"
    }
   ],
   "source": [
    "# changing the data type of mileage column to float\n",
    "df['mileage'] = df['mileage'].astype(float)\n",
    "df['mileage'].head()"
   ]
  },
  {
   "cell_type": "code",
   "execution_count": 14,
   "metadata": {},
   "outputs": [
    {
     "data": {
      "text/plain": [
       "0    1248 \n",
       "1    1498 \n",
       "2    1497 \n",
       "3    1396 \n",
       "4    1298 \n",
       "Name: engine, dtype: object"
      ]
     },
     "execution_count": 14,
     "metadata": {},
     "output_type": "execute_result"
    }
   ],
   "source": [
    "# removing \"CC\" from engine column\n",
    "df['engine'] = df['engine'].str.replace('CC', '')\n",
    "df['engine'].head()"
   ]
  },
  {
   "cell_type": "code",
   "execution_count": 15,
   "metadata": {},
   "outputs": [
    {
     "data": {
      "text/plain": [
       "0    1248.0\n",
       "1    1498.0\n",
       "2    1497.0\n",
       "3    1396.0\n",
       "4    1298.0\n",
       "Name: engine, dtype: float64"
      ]
     },
     "execution_count": 15,
     "metadata": {},
     "output_type": "execute_result"
    }
   ],
   "source": [
    "# changing the data type of engine column to float\n",
    "df['engine'] = df['engine'].astype(float)\n",
    "df['engine'].head()"
   ]
  },
  {
   "cell_type": "code",
   "execution_count": 16,
   "metadata": {},
   "outputs": [
    {
     "data": {
      "text/plain": [
       "0        74 \n",
       "1    103.52 \n",
       "2        78 \n",
       "3        90 \n",
       "4      88.2 \n",
       "Name: max_power, dtype: object"
      ]
     },
     "execution_count": 16,
     "metadata": {},
     "output_type": "execute_result"
    }
   ],
   "source": [
    "# removing \"bhp\" from max_power column\n",
    "df['max_power'] = df['max_power'].str.replace('bhp', '')\n",
    "df['max_power'].head()"
   ]
  },
  {
   "cell_type": "code",
   "execution_count": 17,
   "metadata": {},
   "outputs": [
    {
     "data": {
      "text/plain": [
       "0     74.00\n",
       "1    103.52\n",
       "2     78.00\n",
       "3     90.00\n",
       "4     88.20\n",
       "Name: max_power, dtype: float64"
      ]
     },
     "execution_count": 17,
     "metadata": {},
     "output_type": "execute_result"
    }
   ],
   "source": [
    "# changing the data type of max_power column to float\n",
    "df['max_power'] = df['max_power'].astype(float)\n",
    "df['max_power'].head()"
   ]
  },
  {
   "cell_type": "code",
   "execution_count": 18,
   "metadata": {},
   "outputs": [],
   "source": [
    "# taking only the first word from the \"name\" column\n",
    "df['name'] = df['name'].str.split().str.get(0)"
   ]
  },
  {
   "cell_type": "code",
   "execution_count": 19,
   "metadata": {},
   "outputs": [
    {
     "data": {
      "text/plain": [
       "array(['Maruti', 'Skoda', 'Honda', 'Hyundai', 'Toyota', 'Ford', 'Renault',\n",
       "       'Mahindra', 'Tata', 'Chevrolet', 'Fiat', 'Datsun', 'Jeep',\n",
       "       'Mercedes-Benz', 'Mitsubishi', 'Audi', 'Volkswagen', 'BMW',\n",
       "       'Nissan', 'Lexus', 'Jaguar', 'Land', 'MG', 'Volvo', 'Daewoo',\n",
       "       'Kia', 'Force', 'Ambassador', 'Ashok', 'Isuzu', 'Opel', 'Peugeot'],\n",
       "      dtype=object)"
      ]
     },
     "execution_count": 19,
     "metadata": {},
     "output_type": "execute_result"
    }
   ],
   "source": [
    "# checking unique values for the name column\n",
    "df['name'].unique()"
   ]
  },
  {
   "cell_type": "code",
   "execution_count": 20,
   "metadata": {},
   "outputs": [],
   "source": [
    "# dropping the 'torque' column\n",
    "df.drop('torque', axis = 1, inplace = True)"
   ]
  },
  {
   "cell_type": "code",
   "execution_count": 21,
   "metadata": {},
   "outputs": [],
   "source": [
    "# removing rows with owner value of 5 i.e., 'Test Drive Car'\n",
    "df.drop(df[df['owner'] == 5].index, inplace = True)"
   ]
  },
  {
   "cell_type": "markdown",
   "metadata": {},
   "source": [
    "#### Explanatory Data Analysis (EDA)"
   ]
  },
  {
   "cell_type": "code",
   "execution_count": 22,
   "metadata": {},
   "outputs": [
    {
     "data": {
      "text/html": [
       "<div>\n",
       "<style scoped>\n",
       "    .dataframe tbody tr th:only-of-type {\n",
       "        vertical-align: middle;\n",
       "    }\n",
       "\n",
       "    .dataframe tbody tr th {\n",
       "        vertical-align: top;\n",
       "    }\n",
       "\n",
       "    .dataframe thead th {\n",
       "        text-align: right;\n",
       "    }\n",
       "</style>\n",
       "<table border=\"1\" class=\"dataframe\">\n",
       "  <thead>\n",
       "    <tr style=\"text-align: right;\">\n",
       "      <th></th>\n",
       "      <th>name</th>\n",
       "      <th>year</th>\n",
       "      <th>selling_price</th>\n",
       "      <th>km_driven</th>\n",
       "      <th>fuel</th>\n",
       "      <th>seller_type</th>\n",
       "      <th>transmission</th>\n",
       "      <th>owner</th>\n",
       "      <th>mileage</th>\n",
       "      <th>engine</th>\n",
       "      <th>max_power</th>\n",
       "      <th>seats</th>\n",
       "    </tr>\n",
       "  </thead>\n",
       "  <tbody>\n",
       "    <tr>\n",
       "      <th>0</th>\n",
       "      <td>Maruti</td>\n",
       "      <td>2014</td>\n",
       "      <td>450000</td>\n",
       "      <td>145500</td>\n",
       "      <td>Diesel</td>\n",
       "      <td>Individual</td>\n",
       "      <td>Manual</td>\n",
       "      <td>1</td>\n",
       "      <td>23.40</td>\n",
       "      <td>1248.0</td>\n",
       "      <td>74.00</td>\n",
       "      <td>5.0</td>\n",
       "    </tr>\n",
       "    <tr>\n",
       "      <th>1</th>\n",
       "      <td>Skoda</td>\n",
       "      <td>2014</td>\n",
       "      <td>370000</td>\n",
       "      <td>120000</td>\n",
       "      <td>Diesel</td>\n",
       "      <td>Individual</td>\n",
       "      <td>Manual</td>\n",
       "      <td>2</td>\n",
       "      <td>21.14</td>\n",
       "      <td>1498.0</td>\n",
       "      <td>103.52</td>\n",
       "      <td>5.0</td>\n",
       "    </tr>\n",
       "    <tr>\n",
       "      <th>2</th>\n",
       "      <td>Honda</td>\n",
       "      <td>2006</td>\n",
       "      <td>158000</td>\n",
       "      <td>140000</td>\n",
       "      <td>Petrol</td>\n",
       "      <td>Individual</td>\n",
       "      <td>Manual</td>\n",
       "      <td>3</td>\n",
       "      <td>17.70</td>\n",
       "      <td>1497.0</td>\n",
       "      <td>78.00</td>\n",
       "      <td>5.0</td>\n",
       "    </tr>\n",
       "    <tr>\n",
       "      <th>3</th>\n",
       "      <td>Hyundai</td>\n",
       "      <td>2010</td>\n",
       "      <td>225000</td>\n",
       "      <td>127000</td>\n",
       "      <td>Diesel</td>\n",
       "      <td>Individual</td>\n",
       "      <td>Manual</td>\n",
       "      <td>1</td>\n",
       "      <td>23.00</td>\n",
       "      <td>1396.0</td>\n",
       "      <td>90.00</td>\n",
       "      <td>5.0</td>\n",
       "    </tr>\n",
       "    <tr>\n",
       "      <th>4</th>\n",
       "      <td>Maruti</td>\n",
       "      <td>2007</td>\n",
       "      <td>130000</td>\n",
       "      <td>120000</td>\n",
       "      <td>Petrol</td>\n",
       "      <td>Individual</td>\n",
       "      <td>Manual</td>\n",
       "      <td>1</td>\n",
       "      <td>16.10</td>\n",
       "      <td>1298.0</td>\n",
       "      <td>88.20</td>\n",
       "      <td>5.0</td>\n",
       "    </tr>\n",
       "  </tbody>\n",
       "</table>\n",
       "</div>"
      ],
      "text/plain": [
       "      name  year  selling_price  km_driven    fuel seller_type transmission  \\\n",
       "0   Maruti  2014         450000     145500  Diesel  Individual       Manual   \n",
       "1    Skoda  2014         370000     120000  Diesel  Individual       Manual   \n",
       "2    Honda  2006         158000     140000  Petrol  Individual       Manual   \n",
       "3  Hyundai  2010         225000     127000  Diesel  Individual       Manual   \n",
       "4   Maruti  2007         130000     120000  Petrol  Individual       Manual   \n",
       "\n",
       "   owner  mileage  engine  max_power  seats  \n",
       "0      1    23.40  1248.0      74.00    5.0  \n",
       "1      2    21.14  1498.0     103.52    5.0  \n",
       "2      3    17.70  1497.0      78.00    5.0  \n",
       "3      1    23.00  1396.0      90.00    5.0  \n",
       "4      1    16.10  1298.0      88.20    5.0  "
      ]
     },
     "execution_count": 22,
     "metadata": {},
     "output_type": "execute_result"
    }
   ],
   "source": [
    "df.head()"
   ]
  },
  {
   "cell_type": "markdown",
   "metadata": {},
   "source": [
    "##### Distribution Plot"
   ]
  },
  {
   "cell_type": "code",
   "execution_count": 23,
   "metadata": {},
   "outputs": [
    {
     "data": {
      "image/png": "[encoded data removed]",
      "text/plain": [
       "<Figure size 500x500 with 1 Axes>"
      ]
     },
     "metadata": {},
     "output_type": "display_data"
    }
   ],
   "source": [
    "# checking the distribution of selling_price\n",
    "# selling price is found to be right skewed\n",
    "sns.displot(df['selling_price'])\n",
    "plt.show()"
   ]
  },
  {
   "cell_type": "markdown",
   "metadata": {},
   "source": [
    "##### Scatter Plot"
   ]
  },
  {
   "cell_type": "code",
   "execution_count": 24,
   "metadata": {},
   "outputs": [
    {
     "data": {
      "image/png": "[encoded data removed]",
      "text/plain": [
       "<Figure size 640x480 with 1 Axes>"
      ]
     },
     "metadata": {},
     "output_type": "display_data"
    }
   ],
   "source": [
    "# as the engine CC increases, max power of the car is also found to increase\n",
    "# showing a positive correlation between engine and max_power\n",
    "sns.scatterplot(x='engine', y='max_power', data=df)\n",
    "plt.show()"
   ]
  },
  {
   "cell_type": "code",
   "execution_count": 25,
   "metadata": {},
   "outputs": [
    {
     "data": {
      "image/png": "[encoded data removed]",
      "text/plain": [
       "<Figure size 640x480 with 1 Axes>"
      ]
     },
     "metadata": {},
     "output_type": "display_data"
    }
   ],
   "source": [
    "# km_driven vs selling_price\n",
    "# the selling price of the cars decreases as the km driven increases\n",
    "sns.scatterplot(x='km_driven', y='selling_price', data=df)\n",
    "plt.show()"
   ]
  },
  {
   "cell_type": "code",
   "execution_count": 26,
   "metadata": {},
   "outputs": [
    {
     "data": {
      "image/png": "[encoded data removed]",
      "text/plain": [
       "<Figure size 640x480 with 1 Axes>"
      ]
     },
     "metadata": {},
     "output_type": "display_data"
    }
   ],
   "source": [
    "# year vs selling_price\n",
    "# the selling price of the cars increases as the year increases\n",
    "sns.scatterplot(x='year', y='selling_price', data=df)\n",
    "plt.show()"
   ]
  },
  {
   "cell_type": "code",
   "execution_count": 27,
   "metadata": {},
   "outputs": [
    {
     "data": {
      "image/png": "[encoded data removed]",
      "text/plain": [
       "<Figure size 640x480 with 1 Axes>"
      ]
     },
     "metadata": {},
     "output_type": "display_data"
    }
   ],
   "source": [
    "# mileage vs selling_price\n",
    "# a lot of cars in the dataset have moderate to low mileage\n",
    "sns.scatterplot(x='mileage', y='selling_price', data=df)\n",
    "plt.show()"
   ]
  },
  {
   "cell_type": "markdown",
   "metadata": {},
   "source": [
    "##### One-hot encoding\n",
    "One hot encoding the 'seller_type' category as there is no natural ordering and to represent it as numerical value"
   ]
  },
  {
   "cell_type": "code",
   "execution_count": 28,
   "metadata": {},
   "outputs": [
    {
     "data": {
      "text/plain": [
       "array(['Individual', 'Dealer', 'Trustmark Dealer'], dtype=object)"
      ]
     },
     "execution_count": 28,
     "metadata": {},
     "output_type": "execute_result"
    }
   ],
   "source": [
    "# checking unique values for the seller type\n",
    "df['seller_type'].unique()"
   ]
  },
  {
   "cell_type": "code",
   "execution_count": 29,
   "metadata": {},
   "outputs": [
    {
     "data": {
      "text/html": [
       "<div>\n",
       "<style scoped>\n",
       "    .dataframe tbody tr th:only-of-type {\n",
       "        vertical-align: middle;\n",
       "    }\n",
       "\n",
       "    .dataframe tbody tr th {\n",
       "        vertical-align: top;\n",
       "    }\n",
       "\n",
       "    .dataframe thead th {\n",
       "        text-align: right;\n",
       "    }\n",
       "</style>\n",
       "<table border=\"1\" class=\"dataframe\">\n",
       "  <thead>\n",
       "    <tr style=\"text-align: right;\">\n",
       "      <th></th>\n",
       "      <th>name</th>\n",
       "      <th>year</th>\n",
       "      <th>selling_price</th>\n",
       "      <th>km_driven</th>\n",
       "      <th>fuel</th>\n",
       "      <th>transmission</th>\n",
       "      <th>owner</th>\n",
       "      <th>mileage</th>\n",
       "      <th>engine</th>\n",
       "      <th>max_power</th>\n",
       "      <th>seats</th>\n",
       "      <th>seller_type_Dealer</th>\n",
       "      <th>seller_type_Individual</th>\n",
       "      <th>seller_type_Trustmark Dealer</th>\n",
       "    </tr>\n",
       "  </thead>\n",
       "  <tbody>\n",
       "    <tr>\n",
       "      <th>0</th>\n",
       "      <td>Maruti</td>\n",
       "      <td>2014</td>\n",
       "      <td>450000</td>\n",
       "      <td>145500</td>\n",
       "      <td>Diesel</td>\n",
       "      <td>Manual</td>\n",
       "      <td>1</td>\n",
       "      <td>23.40</td>\n",
       "      <td>1248.0</td>\n",
       "      <td>74.00</td>\n",
       "      <td>5.0</td>\n",
       "      <td>False</td>\n",
       "      <td>True</td>\n",
       "      <td>False</td>\n",
       "    </tr>\n",
       "    <tr>\n",
       "      <th>1</th>\n",
       "      <td>Skoda</td>\n",
       "      <td>2014</td>\n",
       "      <td>370000</td>\n",
       "      <td>120000</td>\n",
       "      <td>Diesel</td>\n",
       "      <td>Manual</td>\n",
       "      <td>2</td>\n",
       "      <td>21.14</td>\n",
       "      <td>1498.0</td>\n",
       "      <td>103.52</td>\n",
       "      <td>5.0</td>\n",
       "      <td>False</td>\n",
       "      <td>True</td>\n",
       "      <td>False</td>\n",
       "    </tr>\n",
       "    <tr>\n",
       "      <th>2</th>\n",
       "      <td>Honda</td>\n",
       "      <td>2006</td>\n",
       "      <td>158000</td>\n",
       "      <td>140000</td>\n",
       "      <td>Petrol</td>\n",
       "      <td>Manual</td>\n",
       "      <td>3</td>\n",
       "      <td>17.70</td>\n",
       "      <td>1497.0</td>\n",
       "      <td>78.00</td>\n",
       "      <td>5.0</td>\n",
       "      <td>False</td>\n",
       "      <td>True</td>\n",
       "      <td>False</td>\n",
       "    </tr>\n",
       "    <tr>\n",
       "      <th>3</th>\n",
       "      <td>Hyundai</td>\n",
       "      <td>2010</td>\n",
       "      <td>225000</td>\n",
       "      <td>127000</td>\n",
       "      <td>Diesel</td>\n",
       "      <td>Manual</td>\n",
       "      <td>1</td>\n",
       "      <td>23.00</td>\n",
       "      <td>1396.0</td>\n",
       "      <td>90.00</td>\n",
       "      <td>5.0</td>\n",
       "      <td>False</td>\n",
       "      <td>True</td>\n",
       "      <td>False</td>\n",
       "    </tr>\n",
       "    <tr>\n",
       "      <th>4</th>\n",
       "      <td>Maruti</td>\n",
       "      <td>2007</td>\n",
       "      <td>130000</td>\n",
       "      <td>120000</td>\n",
       "      <td>Petrol</td>\n",
       "      <td>Manual</td>\n",
       "      <td>1</td>\n",
       "      <td>16.10</td>\n",
       "      <td>1298.0</td>\n",
       "      <td>88.20</td>\n",
       "      <td>5.0</td>\n",
       "      <td>False</td>\n",
       "      <td>True</td>\n",
       "      <td>False</td>\n",
       "    </tr>\n",
       "  </tbody>\n",
       "</table>\n",
       "</div>"
      ],
      "text/plain": [
       "      name  year  selling_price  km_driven    fuel transmission  owner  \\\n",
       "0   Maruti  2014         450000     145500  Diesel       Manual      1   \n",
       "1    Skoda  2014         370000     120000  Diesel       Manual      2   \n",
       "2    Honda  2006         158000     140000  Petrol       Manual      3   \n",
       "3  Hyundai  2010         225000     127000  Diesel       Manual      1   \n",
       "4   Maruti  2007         130000     120000  Petrol       Manual      1   \n",
       "\n",
       "   mileage  engine  max_power  seats  seller_type_Dealer  \\\n",
       "0    23.40  1248.0      74.00    5.0               False   \n",
       "1    21.14  1498.0     103.52    5.0               False   \n",
       "2    17.70  1497.0      78.00    5.0               False   \n",
       "3    23.00  1396.0      90.00    5.0               False   \n",
       "4    16.10  1298.0      88.20    5.0               False   \n",
       "\n",
       "   seller_type_Individual  seller_type_Trustmark Dealer  \n",
       "0                    True                         False  \n",
       "1                    True                         False  \n",
       "2                    True                         False  \n",
       "3                    True                         False  \n",
       "4                    True                         False  "
      ]
     },
     "execution_count": 29,
     "metadata": {},
     "output_type": "execute_result"
    }
   ],
   "source": [
    "df_encoded = pd.get_dummies(df, columns=['seller_type'])\n",
    "df_encoded.head()\n",
    "\n",
    "# seller_type has 3 values and if we do label encoding we will create a unintentional order hence choose one hot encoding \n",
    "# df.get_dummies() creates new columns for each unique value in the column we choose."
   ]
  },
  {
   "cell_type": "markdown",
   "metadata": {},
   "source": [
    "##### Label Encoding"
   ]
  },
  {
   "cell_type": "code",
   "execution_count": 30,
   "metadata": {},
   "outputs": [],
   "source": [
    "from sklearn.preprocessing import LabelEncoder\n",
    "le = LabelEncoder()"
   ]
  },
  {
   "cell_type": "code",
   "execution_count": 31,
   "metadata": {},
   "outputs": [
    {
     "data": {
      "text/plain": [
       "array(['Diesel', 'Petrol'], dtype=object)"
      ]
     },
     "execution_count": 31,
     "metadata": {},
     "output_type": "execute_result"
    }
   ],
   "source": [
    "df['fuel'].unique()"
   ]
  },
  {
   "cell_type": "code",
   "execution_count": 32,
   "metadata": {},
   "outputs": [],
   "source": [
    "# label encoding the fuel column\n",
    "df_encoded['fuel'] = le.fit_transform(df_encoded['fuel'])"
   ]
  },
  {
   "cell_type": "code",
   "execution_count": 33,
   "metadata": {},
   "outputs": [
    {
     "name": "stdout",
     "output_type": "stream",
     "text": [
      "{'Diesel': np.int64(0), 'Petrol': np.int64(1)}\n"
     ]
    }
   ],
   "source": [
    "# Check the mapping\n",
    "print(dict(zip(le.classes_, le.transform(le.classes_))))"
   ]
  },
  {
   "cell_type": "code",
   "execution_count": 34,
   "metadata": {},
   "outputs": [
    {
     "data": {
      "text/plain": [
       "array(['Manual', 'Automatic'], dtype=object)"
      ]
     },
     "execution_count": 34,
     "metadata": {},
     "output_type": "execute_result"
    }
   ],
   "source": [
    "df['transmission'].unique()"
   ]
  },
  {
   "cell_type": "code",
   "execution_count": 35,
   "metadata": {},
   "outputs": [],
   "source": [
    "# label encoding the transmission column\n",
    "df_encoded['transmission'] = le.fit_transform(df_encoded['transmission'])"
   ]
  },
  {
   "cell_type": "code",
   "execution_count": 36,
   "metadata": {},
   "outputs": [
    {
     "name": "stdout",
     "output_type": "stream",
     "text": [
      "{'Automatic': np.int64(0), 'Manual': np.int64(1)}\n"
     ]
    }
   ],
   "source": [
    "# Check the mapping\n",
    "print(dict(zip(le.classes_, le.transform(le.classes_))))"
   ]
  },
  {
   "cell_type": "code",
   "execution_count": 37,
   "metadata": {},
   "outputs": [
    {
     "data": {
      "text/html": [
       "<div>\n",
       "<style scoped>\n",
       "    .dataframe tbody tr th:only-of-type {\n",
       "        vertical-align: middle;\n",
       "    }\n",
       "\n",
       "    .dataframe tbody tr th {\n",
       "        vertical-align: top;\n",
       "    }\n",
       "\n",
       "    .dataframe thead th {\n",
       "        text-align: right;\n",
       "    }\n",
       "</style>\n",
       "<table border=\"1\" class=\"dataframe\">\n",
       "  <thead>\n",
       "    <tr style=\"text-align: right;\">\n",
       "      <th></th>\n",
       "      <th>name</th>\n",
       "      <th>year</th>\n",
       "      <th>selling_price</th>\n",
       "      <th>km_driven</th>\n",
       "      <th>fuel</th>\n",
       "      <th>transmission</th>\n",
       "      <th>owner</th>\n",
       "      <th>mileage</th>\n",
       "      <th>engine</th>\n",
       "      <th>max_power</th>\n",
       "      <th>seats</th>\n",
       "      <th>seller_type_Dealer</th>\n",
       "      <th>seller_type_Individual</th>\n",
       "      <th>seller_type_Trustmark Dealer</th>\n",
       "    </tr>\n",
       "  </thead>\n",
       "  <tbody>\n",
       "    <tr>\n",
       "      <th>0</th>\n",
       "      <td>Maruti</td>\n",
       "      <td>2014</td>\n",
       "      <td>450000</td>\n",
       "      <td>145500</td>\n",
       "      <td>0</td>\n",
       "      <td>1</td>\n",
       "      <td>1</td>\n",
       "      <td>23.40</td>\n",
       "      <td>1248.0</td>\n",
       "      <td>74.00</td>\n",
       "      <td>5.0</td>\n",
       "      <td>False</td>\n",
       "      <td>True</td>\n",
       "      <td>False</td>\n",
       "    </tr>\n",
       "    <tr>\n",
       "      <th>1</th>\n",
       "      <td>Skoda</td>\n",
       "      <td>2014</td>\n",
       "      <td>370000</td>\n",
       "      <td>120000</td>\n",
       "      <td>0</td>\n",
       "      <td>1</td>\n",
       "      <td>2</td>\n",
       "      <td>21.14</td>\n",
       "      <td>1498.0</td>\n",
       "      <td>103.52</td>\n",
       "      <td>5.0</td>\n",
       "      <td>False</td>\n",
       "      <td>True</td>\n",
       "      <td>False</td>\n",
       "    </tr>\n",
       "    <tr>\n",
       "      <th>2</th>\n",
       "      <td>Honda</td>\n",
       "      <td>2006</td>\n",
       "      <td>158000</td>\n",
       "      <td>140000</td>\n",
       "      <td>1</td>\n",
       "      <td>1</td>\n",
       "      <td>3</td>\n",
       "      <td>17.70</td>\n",
       "      <td>1497.0</td>\n",
       "      <td>78.00</td>\n",
       "      <td>5.0</td>\n",
       "      <td>False</td>\n",
       "      <td>True</td>\n",
       "      <td>False</td>\n",
       "    </tr>\n",
       "    <tr>\n",
       "      <th>3</th>\n",
       "      <td>Hyundai</td>\n",
       "      <td>2010</td>\n",
       "      <td>225000</td>\n",
       "      <td>127000</td>\n",
       "      <td>0</td>\n",
       "      <td>1</td>\n",
       "      <td>1</td>\n",
       "      <td>23.00</td>\n",
       "      <td>1396.0</td>\n",
       "      <td>90.00</td>\n",
       "      <td>5.0</td>\n",
       "      <td>False</td>\n",
       "      <td>True</td>\n",
       "      <td>False</td>\n",
       "    </tr>\n",
       "    <tr>\n",
       "      <th>4</th>\n",
       "      <td>Maruti</td>\n",
       "      <td>2007</td>\n",
       "      <td>130000</td>\n",
       "      <td>120000</td>\n",
       "      <td>1</td>\n",
       "      <td>1</td>\n",
       "      <td>1</td>\n",
       "      <td>16.10</td>\n",
       "      <td>1298.0</td>\n",
       "      <td>88.20</td>\n",
       "      <td>5.0</td>\n",
       "      <td>False</td>\n",
       "      <td>True</td>\n",
       "      <td>False</td>\n",
       "    </tr>\n",
       "  </tbody>\n",
       "</table>\n",
       "</div>"
      ],
      "text/plain": [
       "      name  year  selling_price  km_driven  fuel  transmission  owner  \\\n",
       "0   Maruti  2014         450000     145500     0             1      1   \n",
       "1    Skoda  2014         370000     120000     0             1      2   \n",
       "2    Honda  2006         158000     140000     1             1      3   \n",
       "3  Hyundai  2010         225000     127000     0             1      1   \n",
       "4   Maruti  2007         130000     120000     1             1      1   \n",
       "\n",
       "   mileage  engine  max_power  seats  seller_type_Dealer  \\\n",
       "0    23.40  1248.0      74.00    5.0               False   \n",
       "1    21.14  1498.0     103.52    5.0               False   \n",
       "2    17.70  1497.0      78.00    5.0               False   \n",
       "3    23.00  1396.0      90.00    5.0               False   \n",
       "4    16.10  1298.0      88.20    5.0               False   \n",
       "\n",
       "   seller_type_Individual  seller_type_Trustmark Dealer  \n",
       "0                    True                         False  \n",
       "1                    True                         False  \n",
       "2                    True                         False  \n",
       "3                    True                         False  \n",
       "4                    True                         False  "
      ]
     },
     "execution_count": 37,
     "metadata": {},
     "output_type": "execute_result"
    }
   ],
   "source": [
    "df_encoded.head()\n"
   ]
  },
  {
   "cell_type": "code",
   "execution_count": 38,
   "metadata": {},
   "outputs": [],
   "source": [
    "df_encoded = df_encoded.drop('name', axis='columns')\n"
   ]
  },
  {
   "cell_type": "markdown",
   "metadata": {},
   "source": [
    "##### Correlation Matrix\n",
    "\n",
    "Checking correlation between features to understand the strength and direction of relationships between different variables in the dataset"
   ]
  },
  {
   "cell_type": "code",
   "execution_count": 39,
   "metadata": {},
   "outputs": [
    {
     "data": {
      "text/plain": [
       "<Axes: >"
      ]
     },
     "execution_count": 39,
     "metadata": {},
     "output_type": "execute_result"
    },
    {
     "data": {
      "image/png": "[encoded data removed]",
      "text/plain": [
       "<Figure size 1500x800 with 2 Axes>"
      ]
     },
     "metadata": {},
     "output_type": "display_data"
    }
   ],
   "source": [
    "plt.figure(figsize = (15,8))\n",
    "sns.heatmap(df_encoded.corr(), annot=True, cmap=\"coolwarm\") \n",
    "\n",
    "# engine and max_power seem to have a high correlation with each other so, i will choose one of them for my model\n",
    "# year seems to have a positive correlation with selling_price\n",
    "# km_driven and transmission seems to have a negative correlation with selling_price indicating the price are inversely related to each other."
   ]
  },
  {
   "cell_type": "markdown",
   "metadata": {},
   "source": [
    "#### Binning\n",
    "\n",
    "Converting the label selling price into discrete variable by simply putting the price in a bucket of 0, 1, 2, 3,\n",
    "\n"
   ]
  },
  {
   "cell_type": "code",
   "execution_count": 40,
   "metadata": {},
   "outputs": [],
   "source": [
    "# df_encoded['selling_price'] = pd.cut(df_encoded['selling_price'], bins = 4, labels = [0, 1, 2, 3], include_lowest = True)\n",
    "# doing .cut() resulted in a skewed distribution of the target variable\n",
    "# selling_price\n",
    "# 0    7732\n",
    "# 1     182\n",
    "# 2     113\n",
    "# 3       1\n",
    "\n",
    "# using .qcut() to divide the selling_price into 4 equal bins\n",
    "# [   29999.,   260000.,   450000.,   680000., 10000000.]\n",
    "df_encoded['selling_price'] = pd.qcut(df_encoded['selling_price'], q=4, labels=[0, 1, 2, 3])"
   ]
  },
  {
   "cell_type": "code",
   "execution_count": 41,
   "metadata": {},
   "outputs": [
    {
     "data": {
      "text/plain": [
       "selling_price\n",
       "0    2050\n",
       "1    2044\n",
       "3    1991\n",
       "2    1943\n",
       "Name: count, dtype: int64"
      ]
     },
     "execution_count": 41,
     "metadata": {},
     "output_type": "execute_result"
    }
   ],
   "source": [
    "# number of cars in each category\n",
    "df_encoded['selling_price'].value_counts()"
   ]
  },
  {
   "cell_type": "code",
   "execution_count": 42,
   "metadata": {},
   "outputs": [
    {
     "data": {
      "text/plain": [
       "[1, 0, 2, 3]\n",
       "Categories (4, int64): [0 < 1 < 2 < 3]"
      ]
     },
     "execution_count": 42,
     "metadata": {},
     "output_type": "execute_result"
    }
   ],
   "source": [
    "df_encoded['selling_price'].unique()"
   ]
  },
  {
   "cell_type": "markdown",
   "metadata": {},
   "source": [
    "#### Feature Selection\n",
    "\n",
    "Identifying and selecting the most relevant variables to improve model performance"
   ]
  },
  {
   "cell_type": "code",
   "execution_count": 43,
   "metadata": {},
   "outputs": [],
   "source": [
    "X = df_encoded[['year', 'engine', 'km_driven', 'mileage']]\n",
    "assert len(X.shape) == 2"
   ]
  },
  {
   "cell_type": "code",
   "execution_count": 44,
   "metadata": {},
   "outputs": [],
   "source": [
    "y = df_encoded['selling_price']\n",
    "assert len(y.shape) == 1"
   ]
  },
  {
   "cell_type": "markdown",
   "metadata": {},
   "source": [
    "Splitting the data into training and testing"
   ]
  },
  {
   "cell_type": "code",
   "execution_count": 45,
   "metadata": {},
   "outputs": [],
   "source": [
    "from sklearn.model_selection import train_test_split\n",
    "\n",
    "X_train, X_test, y_train, y_test = train_test_split(X, y, test_size = 0.3, random_state = 12)\n",
    "# test_size=0.3 means 30% of the data will be splitted for testing and 70% for training\n",
    "# random_state = 12 ; arranging the randomness in same order. ...=12 means: random number generation starts at point 12 so that the results are consistent every time."
   ]
  },
  {
   "cell_type": "markdown",
   "metadata": {},
   "source": [
    "#### Preprocessing"
   ]
  },
  {
   "cell_type": "markdown",
   "metadata": {},
   "source": [
    "##### Null Values\n",
    "Addressing missing data through methods like imputation"
   ]
  },
  {
   "cell_type": "code",
   "execution_count": 46,
   "metadata": {},
   "outputs": [
    {
     "data": {
      "text/plain": [
       "engine       157\n",
       "mileage      157\n",
       "km_driven      0\n",
       "year           0\n",
       "dtype: int64"
      ]
     },
     "execution_count": 46,
     "metadata": {},
     "output_type": "execute_result"
    }
   ],
   "source": [
    "# checking for missing values\n",
    "X_train[['engine', 'mileage', 'km_driven', 'year']].isna().sum()"
   ]
  },
  {
   "cell_type": "code",
   "execution_count": 47,
   "metadata": {},
   "outputs": [
    {
     "data": {
      "text/plain": [
       "<seaborn.axisgrid.FacetGrid at 0x161102cd0>"
      ]
     },
     "execution_count": 47,
     "metadata": {},
     "output_type": "execute_result"
    },
    {
     "data": {
      "image/png": "[encoded data removed]",
      "text/plain": [
       "<Figure size 500x500 with 1 Axes>"
      ]
     },
     "metadata": {},
     "output_type": "display_data"
    }
   ],
   "source": [
    "sns.displot(data=df_encoded, x='engine')\n",
    "\n",
    "# plot generated to check whether it is skewed or normalized to choose between mean and median for filling the null values"
   ]
  },
  {
   "cell_type": "code",
   "execution_count": 48,
   "metadata": {},
   "outputs": [
    {
     "data": {
      "text/plain": [
       "count    7814.000000\n",
       "mean     1462.914640\n",
       "std       504.759742\n",
       "min       624.000000\n",
       "25%      1197.000000\n",
       "50%      1248.000000\n",
       "75%      1582.000000\n",
       "max      3604.000000\n",
       "Name: engine, dtype: float64"
      ]
     },
     "execution_count": 48,
     "metadata": {},
     "output_type": "execute_result"
    }
   ],
   "source": [
    "df_encoded['engine'].describe()"
   ]
  },
  {
   "cell_type": "code",
   "execution_count": 49,
   "metadata": {},
   "outputs": [],
   "source": [
    "#let's fill the training set for engine\n",
    "X_train['engine'].fillna(X_train['engine'].median(), inplace=True) # the data is not normally distributed i.e, the data is skewed hence median used otherwise use mean"
   ]
  },
  {
   "cell_type": "code",
   "execution_count": 50,
   "metadata": {},
   "outputs": [
    {
     "data": {
      "text/plain": [
       "<seaborn.axisgrid.FacetGrid at 0x16167f220>"
      ]
     },
     "execution_count": 50,
     "metadata": {},
     "output_type": "execute_result"
    },
    {
     "data": {
      "image/png": "[encoded data removed]",
      "text/plain": [
       "<Figure size 500x500 with 1 Axes>"
      ]
     },
     "metadata": {},
     "output_type": "display_data"
    }
   ],
   "source": [
    "sns.displot(data=df_encoded, x='mileage')\n",
    "\n",
    "# plot generated to check whether it is skewed or normalized to choose between mean and median for filling the null values"
   ]
  },
  {
   "cell_type": "code",
   "execution_count": 51,
   "metadata": {},
   "outputs": [
    {
     "data": {
      "text/plain": [
       "count    7814.000000\n",
       "mean       19.391962\n",
       "std         4.001972\n",
       "min         0.000000\n",
       "25%        16.780000\n",
       "50%        19.300000\n",
       "75%        22.320000\n",
       "max        42.000000\n",
       "Name: mileage, dtype: float64"
      ]
     },
     "execution_count": 51,
     "metadata": {},
     "output_type": "execute_result"
    }
   ],
   "source": [
    "df_encoded['mileage'].describe()"
   ]
  },
  {
   "cell_type": "code",
   "execution_count": 52,
   "metadata": {},
   "outputs": [],
   "source": [
    "#let's fill the training set for mileage\n",
    "X_train['mileage'].fillna(X_train['mileage'].mean(), inplace=True) # the data is not normally distributed i.e, the data is skewed hence median used otherwise use mean"
   ]
  },
  {
   "cell_type": "code",
   "execution_count": 53,
   "metadata": {},
   "outputs": [
    {
     "data": {
      "text/plain": [
       "engine       0\n",
       "mileage      0\n",
       "km_driven    0\n",
       "year         0\n",
       "dtype: int64"
      ]
     },
     "execution_count": 53,
     "metadata": {},
     "output_type": "execute_result"
    }
   ],
   "source": [
    "X_train[['engine', 'mileage', 'km_driven', 'year']].isna().sum()\n"
   ]
  },
  {
   "cell_type": "code",
   "execution_count": 54,
   "metadata": {},
   "outputs": [
    {
     "data": {
      "text/plain": [
       "engine       57\n",
       "mileage      57\n",
       "km_driven     0\n",
       "year          0\n",
       "dtype: int64"
      ]
     },
     "execution_count": 54,
     "metadata": {},
     "output_type": "execute_result"
    }
   ],
   "source": [
    "X_test[['engine', 'mileage', 'km_driven', 'year']].isna().sum()\n"
   ]
  },
  {
   "cell_type": "code",
   "execution_count": 55,
   "metadata": {},
   "outputs": [],
   "source": [
    "#let's fill the testing set for testing engine and mileage:\n",
    "X_test['engine'].fillna(X_train['engine'].median(), inplace=True) # the data is not normally distributed i.e, the data is skewed hence median used otherwise use mean\n",
    "X_test['mileage'].fillna(X_train['mileage'].mean(), inplace=True) # the data is not normally distributed i.e, the data is skewed hence median used otherwise use mean"
   ]
  },
  {
   "cell_type": "code",
   "execution_count": 56,
   "metadata": {},
   "outputs": [
    {
     "data": {
      "text/plain": [
       "engine       0\n",
       "mileage      0\n",
       "km_driven    0\n",
       "year         0\n",
       "dtype: int64"
      ]
     },
     "execution_count": 56,
     "metadata": {},
     "output_type": "execute_result"
    }
   ],
   "source": [
    "X_test[['engine', 'mileage', 'km_driven', 'year']].isna().sum()"
   ]
  },
  {
   "cell_type": "code",
   "execution_count": 57,
   "metadata": {},
   "outputs": [
    {
     "data": {
      "text/plain": [
       "np.int64(0)"
      ]
     },
     "execution_count": 57,
     "metadata": {},
     "output_type": "execute_result"
    }
   ],
   "source": [
    "y_train.isna().sum()\n"
   ]
  },
  {
   "cell_type": "code",
   "execution_count": 58,
   "metadata": {},
   "outputs": [
    {
     "data": {
      "text/plain": [
       "np.int64(0)"
      ]
     },
     "execution_count": 58,
     "metadata": {},
     "output_type": "execute_result"
    }
   ],
   "source": [
    "y_test.isna().sum()"
   ]
  },
  {
   "cell_type": "code",
   "execution_count": 59,
   "metadata": {},
   "outputs": [
    {
     "data": {
      "text/plain": [
       "((5619, 4), (5619,), (2409, 4), (2409,))"
      ]
     },
     "execution_count": 59,
     "metadata": {},
     "output_type": "execute_result"
    }
   ],
   "source": [
    "# checking number of rows\n",
    "X_train.shape, y_train.shape, X_test.shape, y_test.shape"
   ]
  },
  {
   "cell_type": "markdown",
   "metadata": {},
   "source": [
    "##### Checking for Outliers"
   ]
  },
  {
   "cell_type": "code",
   "execution_count": 60,
   "metadata": {},
   "outputs": [
    {
     "data": {
      "image/png": "[encoded data removed]",
      "text/plain": [
       "<Figure size 2000x3000 with 4 Axes>"
      ]
     },
     "metadata": {},
     "output_type": "display_data"
    }
   ],
   "source": [
    "col_dict = {'year':1,'engine':2, 'km_driven':3, 'mileage':4}\n",
    "\n",
    "# checking outliers\n",
    "plt.figure(figsize=(20,30))\n",
    "\n",
    "for variable,i in col_dict.items():\n",
    "                     plt.subplot(5,4,i)\n",
    "                     plt.boxplot(X_train[variable])\n",
    "                     plt.title(variable)\n",
    "\n",
    "plt.show()"
   ]
  },
  {
   "cell_type": "code",
   "execution_count": 61,
   "metadata": {},
   "outputs": [],
   "source": [
    "def outlier_count(col, data = X_train): #outlier_count: a function is defined; which is designed to calculate the number and percentage of outliers in a specified column of a dataset\n",
    "#col: The name of the column for which outliers need to be calculated.\n",
    "#data: The dataset to use for calculations (default is X_train).  \n",
    "\n",
    "    # calculate your 25% quatile and 75% quatile\n",
    "    q75, q25 = np.percentile(data[col], [75, 25])\n",
    "    \n",
    "    # calculate your inter quatile\n",
    "    iqr = q75 - q25 #IQR is the range of the middle 50% of the data; Formula: IQR=Q3−Q1.\n",
    "\n",
    "    # min_val and max_val\n",
    "    min_val = q25 - (iqr*1.5)\n",
    "    max_val = q75 + (iqr*1.5)\n",
    "    \n",
    "    # count number of outliers, which are the data that are less than min_val or more than max_val calculated above\n",
    "    outlier_count = len(np.where((data[col] > max_val) | (data[col] < min_val))[0])\n",
    "    #np.where: Identifies the rows where the values in the column are either: Greater than max_val (above the upper bound). Less than min_val (below the lower bound).\n",
    "    #len(): Counts the number of such rows (outliers).\n",
    "\n",
    "    # calculate the percentage of the outliers\n",
    "    outlier_percent = round(outlier_count/len(data[col])*100, 2) #Divides the count of outliers by the total number of rows in the column to get the percentage. Multiplies by 100 to convert to a percentage and rounds to 2 decimal places.\n",
    "    \n",
    "    if(outlier_count > 0):\n",
    "        print(\"\\n\"+15*'-' + col + 15*'-'+\"\\n\")\n",
    "        print('Number of outliers: {}'.format(outlier_count))\n",
    "        print('Percent of data that is outlier: {}%'.format(outlier_percent))"
   ]
  },
  {
   "cell_type": "code",
   "execution_count": 62,
   "metadata": {},
   "outputs": [
    {
     "name": "stdout",
     "output_type": "stream",
     "text": [
      "\n",
      "---------------year---------------\n",
      "\n",
      "Number of outliers: 149\n",
      "Percent of data that is outlier: 2.65%\n",
      "\n",
      "---------------engine---------------\n",
      "\n",
      "Number of outliers: 842\n",
      "Percent of data that is outlier: 14.98%\n",
      "\n",
      "---------------km_driven---------------\n",
      "\n",
      "Number of outliers: 118\n",
      "Percent of data that is outlier: 2.1%\n",
      "\n",
      "---------------mileage---------------\n",
      "\n",
      "Number of outliers: 9\n",
      "Percent of data that is outlier: 0.16%\n"
     ]
    }
   ],
   "source": [
    "for col in X_train.columns:\n",
    "    outlier_count(col)"
   ]
  },
  {
   "cell_type": "markdown",
   "metadata": {},
   "source": [
    "#### Scaling"
   ]
  },
  {
   "cell_type": "code",
   "execution_count": 63,
   "metadata": {},
   "outputs": [],
   "source": [
    "# List of numerical feature names that need to be scaled\n",
    "from sklearn.preprocessing import StandardScaler\n",
    "\n",
    "num_cols = ['year', 'engine', 'km_driven', 'mileage']\n",
    "\n",
    "scaler = StandardScaler()\n",
    "\n",
    "X_train[num_cols] = scaler.fit_transform(X_train[num_cols])\n",
    "X_test[num_cols] = scaler.transform(X_test[num_cols])"
   ]
  },
  {
   "cell_type": "code",
   "execution_count": 64,
   "metadata": {},
   "outputs": [],
   "source": [
    "# one hot encoding to avoid ordinal relationships\n",
    "Y_train_encoded = pd.get_dummies(y_train)"
   ]
  },
  {
   "cell_type": "code",
   "execution_count": 65,
   "metadata": {},
   "outputs": [],
   "source": [
    "X_train = X_train.to_numpy()\n",
    "X_test  = X_test.to_numpy()\n",
    "Y_train_encoded = Y_train_encoded.to_numpy()\n",
    "y_test  = y_test.to_numpy()"
   ]
  },
  {
   "cell_type": "code",
   "execution_count": 66,
   "metadata": {},
   "outputs": [
    {
     "name": "stdout",
     "output_type": "stream",
     "text": [
      "Shape of X_train:  (5619, 4)\n",
      "Shape of y_train:  (5619, 4)\n",
      "Shape of X_test:  (2409, 4)\n",
      "Shape of y_test:  (2409,)\n"
     ]
    }
   ],
   "source": [
    "print(\"Shape of X_train: \", X_train.shape)\n",
    "print(\"Shape of y_train: \", Y_train_encoded.shape)\n",
    "print(\"Shape of X_test: \", X_test.shape)\n",
    "print(\"Shape of y_test: \", y_test.shape)"
   ]
  },
  {
   "cell_type": "code",
   "execution_count": 67,
   "metadata": {},
   "outputs": [
    {
     "name": "stdout",
     "output_type": "stream",
     "text": [
      "2.21.2\n"
     ]
    }
   ],
   "source": [
    "#experiment tracking\n",
    "import mlflow\n",
    "print(mlflow.__version__)\n",
    "import os"
   ]
  },
  {
   "cell_type": "code",
   "execution_count": 68,
   "metadata": {},
   "outputs": [],
   "source": [
    "# mlflow_url = 'https://mlflow.ml.brain.cs.ait.ac.th/'\n",
    "# mlflow.set_tracking_uri(mlflow_url)"
   ]
  },
  {
   "cell_type": "code",
   "execution_count": 69,
   "metadata": {},
   "outputs": [],
   "source": [
    "# print (mlflow_url)"
   ]
  },
  {
   "cell_type": "code",
   "execution_count": 70,
   "metadata": {},
   "outputs": [
    {
     "name": "stderr",
     "output_type": "stream",
     "text": [
      "2025/03/29 01:21:52 INFO mlflow.tracking.fluent: Experiment with name 'st124963-NehaShrestha' does not exist. Creating a new experiment.\n"
     ]
    },
    {
     "name": "stdout",
     "output_type": "stream",
     "text": [
      "Experiment 'st124963-NehaShrestha' set successfully!\n"
     ]
    }
   ],
   "source": [
    "# This the dockerized method.\n",
    "# We build two docker containers, one for python/jupyter and another for mlflow.\n",
    "# The url `mlflow` is resolved into another container within the same composer.\n",
    "mlflow.set_tracking_uri(\"http://127.0.0.1:5000\")\n",
    "\n",
    "# Set the environment variable (if needed)\n",
    "os.environ[\"LOGNAME\"] = \"st124963-NehaShrestha\"\n",
    "\n",
    "# Set the experiment\n",
    "experiment_name = \"st124963-NehaShrestha\"\n",
    "mlflow.set_experiment(experiment_name)\n",
    "\n",
    "print(f\"Experiment '{experiment_name}' set successfully!\")"
   ]
  },
  {
   "cell_type": "code",
   "execution_count": 71,
   "metadata": {},
   "outputs": [],
   "source": [
    "import time\n",
    "# from sklearn.inspection import permutation_importance\n",
    "\n",
    "class LogisticRegression:\n",
    "    \n",
    "    def __init__(self, regularization, k, n, method, alpha = 0.001, max_iter=5000):\n",
    "        self.regularization = regularization\n",
    "        self.k = k\n",
    "        self.n = n\n",
    "        self.alpha = alpha\n",
    "        self.max_iter = max_iter\n",
    "        self.method = method\n",
    "    \n",
    "    def fit(self, X, Y):\n",
    "        self.W = np.random.rand(self.n, self.k)\n",
    "        self.losses = []\n",
    "        \n",
    "        if self.method == \"batch\":\n",
    "            start_time = time.time()\n",
    "            for i in range(self.max_iter):\n",
    "                loss, grad =  self.gradient(X, Y)\n",
    "                self.losses.append(loss)\n",
    "                self.W = self.W - self.alpha * grad\n",
    "                if i % 500 == 0:\n",
    "                    print(f\"Loss at iteration {i}\", loss)\n",
    "            print(f\"time taken: {time.time() - start_time}\")\n",
    "            \n",
    "        elif self.method == \"minibatch\":\n",
    "            start_time = time.time()\n",
    "            batch_size = int(0.3 * X.shape[0])\n",
    "            for i in range(self.max_iter):\n",
    "                ix = np.random.randint(0, X.shape[0]) #<----with replacement\n",
    "                batch_X = X[ix:ix+batch_size]\n",
    "                batch_Y = Y[ix:ix+batch_size]\n",
    "                loss, grad = self.gradient(batch_X, batch_Y)\n",
    "                self.losses.append(loss)\n",
    "                self.W = self.W - self.alpha * grad\n",
    "                if i % 500 == 0:\n",
    "                    print(f\"Loss at iteration {i}\", loss)\n",
    "            print(f\"time taken: {time.time() - start_time}\")\n",
    "            \n",
    "        elif self.method == \"sto\":\n",
    "            start_time = time.time()\n",
    "            list_of_used_ix = []\n",
    "            for i in range(self.max_iter):\n",
    "                idx = np.random.randint(X.shape[0])\n",
    "                while i in list_of_used_ix:\n",
    "                    idx = np.random.randint(X.shape[0])\n",
    "                X_train = X[idx, :].reshape(1, -1)\n",
    "                Y_train = Y[idx]\n",
    "                loss, grad = self.gradient(X_train, Y_train)\n",
    "                self.losses.append(loss)\n",
    "                self.W = self.W - self.alpha * grad\n",
    "                \n",
    "                list_of_used_ix.append(i)\n",
    "                if len(list_of_used_ix) == X.shape[0]:\n",
    "                    list_of_used_ix = []\n",
    "                if i % 500 == 0:\n",
    "                    print(f\"Loss at iteration {i}\", loss)\n",
    "            print(f\"time taken: {time.time() - start_time}\")\n",
    "            \n",
    "        else:\n",
    "            raise ValueError('Method must be one of the followings: \"batch\", \"minibatch\" or \"sto\".')\n",
    "        \n",
    "        \n",
    "    def gradient(self, X, Y):\n",
    "        m = X.shape[0]\n",
    "        h = self.h_theta(X, self.W)\n",
    "        loss = - np.sum(Y*np.log(h)) / m\n",
    "        error = h - Y\n",
    "        \n",
    "        if self.regularization:\n",
    "            grad = self.softmax_grad(X, error) + self.regularization.derivation(self.W)\n",
    "        else:\n",
    "            grad = self.softmax_grad(X, error)\n",
    "\n",
    "        return loss, grad\n",
    "\n",
    "    def softmax(self, theta_t_x):\n",
    "        return np.exp(theta_t_x) / np.sum(np.exp(theta_t_x), axis=1, keepdims=True)\n",
    "\n",
    "    def softmax_grad(self, X, error):\n",
    "        return  X.T @ error\n",
    "\n",
    "    def h_theta(self, X, W):\n",
    "        '''\n",
    "        Input:\n",
    "            X shape: (m, n)\n",
    "            w shape: (n, k)\n",
    "        Returns:\n",
    "            yhat shape: (m, k)\n",
    "        '''\n",
    "        return self.softmax(X @ W)\n",
    "    \n",
    "    def predict(self, X_test):\n",
    "        return np.argmax(self.h_theta(X_test, self.W), axis=1)\n",
    "    \n",
    "    def plot(self):\n",
    "        plt.plot(np.arange(len(self.losses)) , self.losses, label = \"Train Losses\")\n",
    "        plt.title(\"Losses\")\n",
    "        plt.xlabel(\"epoch\")\n",
    "        plt.ylabel(\"losses\")\n",
    "        plt.legend()\n",
    "\n",
    "    def accuracy(self, y, y_pred):\n",
    "        accuracy = 0\n",
    "\n",
    "        correct_predictions = np.sum(y == y_pred)\n",
    "        total_predictions = len(y)\n",
    "        accuracy = correct_predictions / total_predictions\n",
    "        \n",
    "        return accuracy\n",
    "    \n",
    "    def precision(self, y, y_pred, c = 0):\n",
    "        precision = 0\n",
    "        \n",
    "        # actually 'c' and predicted 'c'\n",
    "        true_positives = np.sum((y == c) & (y_pred == c))\n",
    "\n",
    "        # not actually 'c' but predicted 'c'\n",
    "        false_positives = np.sum((y != c) & (y_pred == c))\n",
    "\n",
    "        # checking if denomintor is not zero\n",
    "        if (true_positives + false_positives) == 0:\n",
    "            return precision\n",
    "        \n",
    "        precision = true_positives / (true_positives + false_positives)\n",
    "        \n",
    "        return precision\n",
    "    \n",
    "    def recall(self, y, y_pred, c = 0):\n",
    "        recall = 0\n",
    "        \n",
    "        # actually 'c' and predicted 'c'\n",
    "        true_positives = np.sum((y == c) & (y_pred == c))\n",
    "\n",
    "        # actually 'c' but predicted not 'c'\n",
    "        false_negatives = np.sum((y == c) & (y_pred != c))\n",
    "\n",
    "        # checking if denomintor is not zero\n",
    "        if (true_positives + false_negatives) == 0:\n",
    "            return recall\n",
    "        \n",
    "        recall = true_positives / (true_positives + false_negatives)\n",
    "        \n",
    "        return recall\n",
    "    \n",
    "    def f1_score(self, y, y_pred, c = 0):\n",
    "        precision = self.precision(y, y_pred, c)\n",
    "        recall = self.recall(y, y_pred, c)\n",
    "\n",
    "        # checking if denomintor is not zero\n",
    "        if (precision + recall) == 0:\n",
    "            return 0\n",
    "        \n",
    "        f1_score = 2 * (precision * recall) / (precision + recall)\n",
    "        \n",
    "        return f1_score\n",
    "    \n",
    "    def macro_precision(self, y, y_pred):\n",
    "        precision_sum = [self.precision(y, y_pred, c) for c in range(self.k)]\n",
    "\n",
    "        macro_precision = np.sum(precision_sum) / self.k\n",
    "\n",
    "        return macro_precision\n",
    "    \n",
    "    def macro_recall(self, y, y_pred):\n",
    "        recall_sum = [self.recall(y, y_pred, c) for c in range(self.k)]\n",
    "\n",
    "        macro_recall = np.sum(recall_sum) / self.k\n",
    "\n",
    "        return macro_recall\n",
    "    \n",
    "    def macro_f1_score(self, y, y_pred):\n",
    "        f1_sum = [self.f1_score(y, y_pred, c) for c in range(self.k)]\n",
    "\n",
    "        macro_f1 = np.sum(f1_sum) / self.k\n",
    "\n",
    "        return macro_f1\n",
    "\n",
    "    def weighted_precision(self, y, y_pred):\n",
    "        precision_sum = [self.precision(y, y_pred, c) for c in range(self.k)]\n",
    "\n",
    "        # going through every class\n",
    "        # [0, 1, 2, 1, 2, 1, 0] and if k = 3\n",
    "        # so for, c = 0\n",
    "        # [True, False, False, False, False, False, True]\n",
    "        # OP: 2 -> then go to another class\n",
    "        class_count = [np.sum(y == c) for c in range(self.k)]\n",
    "\n",
    "        weighted_precision = np.sum([precision_sum[i] * class_count[i] for i in range(self.k)]) / len(y)\n",
    "\n",
    "        return weighted_precision\n",
    "\n",
    "    def weighted_recall(self, y, y_pred):\n",
    "        recall_sum = [self.recall(y, y_pred, c) for c in range(self.k)]\n",
    "        class_count = [np.sum(y == c) for c in range(self.k)]\n",
    "\n",
    "        weighted_recall = np.sum(recall_sum[i] * class_count[i] for i in range(self.k)) / len(y)\n",
    "\n",
    "        return weighted_recall\n",
    "    \n",
    "    def weighted_f1(self, y, y_pred):\n",
    "        f1_sum = [self.f1_score(y, y_pred, c) for c in range(self.k)]\n",
    "        class_count = [np.sum(y == c) for c in range(self.k)]\n",
    "\n",
    "        weighted_f1 = np.sum(f1_sum[i] * class_count[i] for i in range(self.k)) / len(y)\n",
    "\n",
    "        return weighted_f1\n",
    "\n",
    "    def classification_report(self, y, y_pred):\n",
    "        cols = [\"precision\", \"recall\", \"f1-score\"]\n",
    "        idx = list(range(self.k)) + [\"accuracy\", \"macro\", \"weighted\"]\n",
    "\n",
    "        report = [[self.precision(y, y_pred, c),\n",
    "                   self.recall(y, y_pred, c),\n",
    "                   self.f1_score(y, y_pred, c)] for c in range(self.k)]\n",
    "\n",
    "        report.append([\"\", \"\", self.accuracy(y, y_pred)])\n",
    "\n",
    "        report.append([self.macro_precision(y, y_pred),\n",
    "                       self.macro_recall(y, y_pred),\n",
    "                       self.macro_f1_score(y, y_pred)])\n",
    "\n",
    "        report.append([self.weighted_precision(y, y_pred),\n",
    "                       self.weighted_recall(y, y_pred),\n",
    "                       self.weighted_f1(y, y_pred)])\n",
    "\n",
    "        return pd.DataFrame(report, index=idx, columns=cols)"
   ]
  },
  {
   "cell_type": "markdown",
   "metadata": {},
   "source": [
    "Checking for dummy data"
   ]
  },
  {
   "cell_type": "code",
   "execution_count": 72,
   "metadata": {},
   "outputs": [
    {
     "name": "stdout",
     "output_type": "stream",
     "text": [
      "\n",
      "Custom Classification Report:\n",
      "         precision recall  f1-score\n",
      "0              0.6   0.75  0.666667\n",
      "1             0.75   0.75  0.750000\n",
      "2              1.0   0.75  0.857143\n",
      "accuracy                   0.750000\n",
      "macro     0.783333   0.75  0.757937\n",
      "weighted  0.783333   0.75  0.757937\n"
     ]
    }
   ],
   "source": [
    "np.random.seed(42)\n",
    "y_check = np.array([0, 1, 0, 2, 1, 0, 2, 1, 2, 2, 1, 0] )  # Actual labels (0, 1, 2)\n",
    "y_pred_check = np.array([0, 0, 0, 2, 1, 0, 2, 1, 0, 2, 1, 1])  # Predicted labels (0, 1, 2)\n",
    "\n",
    "my_lr = LogisticRegression(regularization=None, k = 3, n = 5, method = \"batch\")\n",
    "\n",
    "custom_report = my_lr.classification_report(y_check, y_pred_check)\n",
    "print(\"\\nCustom Classification Report:\")\n",
    "print(custom_report)"
   ]
  },
  {
   "cell_type": "code",
   "execution_count": 73,
   "metadata": {},
   "outputs": [
    {
     "name": "stdout",
     "output_type": "stream",
     "text": [
      "              precision    recall  f1-score   support\n",
      "\n",
      "           0       0.60      0.75      0.67         4\n",
      "           1       0.75      0.75      0.75         4\n",
      "           2       1.00      0.75      0.86         4\n",
      "\n",
      "    accuracy                           0.75        12\n",
      "   macro avg       0.78      0.75      0.76        12\n",
      "weighted avg       0.78      0.75      0.76        12\n",
      "\n"
     ]
    }
   ],
   "source": [
    "from sklearn.metrics import classification_report as skl_classification_report\n",
    "print(skl_classification_report(y_check, y_pred_check))"
   ]
  },
  {
   "cell_type": "code",
   "execution_count": 74,
   "metadata": {},
   "outputs": [],
   "source": [
    "class RidgePenalty:\n",
    "    \n",
    "    def __init__(self, l):\n",
    "        self.l = l\n",
    "        \n",
    "    def __call__(self, theta): #__call__ allows us to call class as method\n",
    "        return self.l * np.sum(np.square(theta))\n",
    "        \n",
    "    def derivation(self, theta):\n",
    "        return self.l * 2 * theta\n",
    "    \n",
    "class Ridge(LogisticRegression):\n",
    "    def __init__(self, l, k, n, method, alpha = 0.001, max_iter=5000):\n",
    "        self.regularization = RidgePenalty(l)\n",
    "        super().__init__(self.regularization, k=k, n=n, method=method, alpha=alpha, max_iter=max_iter)\n",
    "\n",
    "class Normal(LogisticRegression):\n",
    "    def __init__(self, k, n, method, alpha=0.001, max_iter=5000):\n",
    "        super().__init__(regularization=None, k=k, n=n, method=method, alpha=alpha, max_iter=max_iter)"
   ]
  },
  {
   "cell_type": "markdown",
   "metadata": {},
   "source": [
    "#### Experiment"
   ]
  },
  {
   "cell_type": "code",
   "execution_count": 75,
   "metadata": {},
   "outputs": [],
   "source": [
    "#helper function for looping classnames\n",
    "import sys\n",
    "\n",
    "def str_to_class(classname):\n",
    "    return getattr(sys.modules[__name__], classname)"
   ]
  },
  {
   "cell_type": "code",
   "execution_count": 76,
   "metadata": {},
   "outputs": [
    {
     "data": {
      "text/plain": [
       "4"
      ]
     },
     "execution_count": 76,
     "metadata": {},
     "output_type": "execute_result"
    }
   ],
   "source": [
    "k = len(set(y))\n",
    "k"
   ]
  },
  {
   "cell_type": "code",
   "execution_count": 91,
   "metadata": {},
   "outputs": [
    {
     "name": "stdout",
     "output_type": "stream",
     "text": [
      "==============================\n",
      "Normal batch\n",
      "alpha: 0.01\n",
      "==============================\n",
      "Loss at iteration 0 1.3363603735981686\n",
      "Loss at iteration 500 9.797208438416146\n",
      "Loss at iteration 1000 9.718262797414383\n",
      "Loss at iteration 1500 9.613443624877446\n",
      "Loss at iteration 2000 9.783132485552766\n",
      "Loss at iteration 2500 10.359062895480326\n",
      "Loss at iteration 3000 9.7361477326028\n",
      "Loss at iteration 3500 10.32870545508732\n",
      "Loss at iteration 4000 10.269265495156265\n",
      "Loss at iteration 4500 9.663219438442917\n",
      "Loss at iteration 5000 10.256053175541336\n",
      "Loss at iteration 5500 9.76637420059618\n",
      "Loss at iteration 6000 9.601941395735283\n",
      "Loss at iteration 6500 9.706830353288906\n",
      "Loss at iteration 7000 10.120021518658248\n",
      "Loss at iteration 7500 10.259271545436372\n",
      "Loss at iteration 8000 9.9367595048285\n",
      "Loss at iteration 8500 10.260703997730527\n",
      "time taken: 5.644360065460205\n",
      "Final Training Loss: 6.172582705059404\n",
      "🏃 View run reg-Normal-method-batch-alpha-0.01 at: http://127.0.0.1:5000/#/experiments/433389547919655421/runs/2ca38139e9e640828832d0ba3fa32c2e\n",
      "🧪 View experiment at: http://127.0.0.1:5000/#/experiments/433389547919655421\n",
      "==============================\n",
      "Normal batch\n",
      "alpha: 0.001\n",
      "==============================\n",
      "Loss at iteration 0 1.4261272746421056\n",
      "Loss at iteration 500 1.0795221194372937\n",
      "Loss at iteration 1000 1.0795221194372937\n",
      "Loss at iteration 1500 1.0795221194372937\n",
      "Loss at iteration 2000 1.0795221194372937\n",
      "Loss at iteration 2500 1.0795221194372937\n",
      "Loss at iteration 3000 1.0795221194372937\n",
      "Loss at iteration 3500 1.0795221194372937\n",
      "Loss at iteration 4000 1.0795221194372937\n",
      "Loss at iteration 4500 1.079522119437294\n",
      "Loss at iteration 5000 1.0795221194372937\n",
      "Loss at iteration 5500 1.0795221194372937\n",
      "Loss at iteration 6000 1.0795221194372937\n",
      "Loss at iteration 6500 1.079522119437294\n",
      "Loss at iteration 7000 1.0795221194372937\n",
      "Loss at iteration 7500 1.0795221194372937\n",
      "Loss at iteration 8000 1.0795221194372937\n",
      "Loss at iteration 8500 1.0795221194372937\n",
      "time taken: 5.288363933563232\n",
      "Final Training Loss: 1.0320763874804522\n",
      "🏃 View run reg-Normal-method-batch-alpha-0.001 at: http://127.0.0.1:5000/#/experiments/433389547919655421/runs/9a5d347c43d946d1a22c1b937691665e\n",
      "🧪 View experiment at: http://127.0.0.1:5000/#/experiments/433389547919655421\n",
      "==============================\n",
      "Normal batch\n",
      "alpha: 0.0001\n",
      "==============================\n",
      "Loss at iteration 0 1.2825337157836667\n",
      "Loss at iteration 500 0.9139760647705836\n",
      "Loss at iteration 1000 0.9139756868117916\n",
      "Loss at iteration 1500 0.9139756868034756\n",
      "Loss at iteration 2000 0.9139756868034753\n",
      "Loss at iteration 2500 0.9139756868034753\n",
      "Loss at iteration 3000 0.9139756868034753\n",
      "Loss at iteration 3500 0.9139756868034753\n",
      "Loss at iteration 4000 0.9139756868034753\n",
      "Loss at iteration 4500 0.9139756868034753\n",
      "Loss at iteration 5000 0.9139756868034753\n",
      "Loss at iteration 5500 0.9139756868034753\n",
      "Loss at iteration 6000 0.9139756868034753\n",
      "Loss at iteration 6500 0.9139756868034753\n",
      "Loss at iteration 7000 0.9139756868034753\n",
      "Loss at iteration 7500 0.9139756868034753\n",
      "Loss at iteration 8000 0.9139756868034753\n",
      "Loss at iteration 8500 0.9139756868034753\n",
      "time taken: 5.07050895690918\n",
      "Final Training Loss: 0.9139756868034753\n",
      "🏃 View run reg-Normal-method-batch-alpha-0.0001 at: http://127.0.0.1:5000/#/experiments/433389547919655421/runs/1e57975612d7482e98b98f45fb0e42ff\n",
      "🧪 View experiment at: http://127.0.0.1:5000/#/experiments/433389547919655421\n",
      "🏃 View run reg-Normal-method-batch at: http://127.0.0.1:5000/#/experiments/433389547919655421/runs/4968a0bf0ff940a59146228db6f4ca25\n",
      "🧪 View experiment at: http://127.0.0.1:5000/#/experiments/433389547919655421\n",
      "==============================\n",
      "Normal minibatch\n",
      "alpha: 0.01\n",
      "==============================\n",
      "Loss at iteration 0 1.458581215924963\n",
      "Loss at iteration 500 1.2620333647054645\n",
      "Loss at iteration 1000 3.412306372417007\n",
      "Loss at iteration 1500 1.599557611662675\n",
      "Loss at iteration 2000 3.206032125630838\n",
      "Loss at iteration 2500 2.3931976945506532\n",
      "Loss at iteration 3000 2.0424895578248297\n",
      "Loss at iteration 3500 3.4942675019811165\n",
      "Loss at iteration 4000 2.0226108823282654\n",
      "Loss at iteration 4500 2.957210319351738\n",
      "Loss at iteration 5000 3.2092041125376496\n",
      "Loss at iteration 5500 2.7356001803387935\n",
      "Loss at iteration 6000 2.49478070216768\n",
      "Loss at iteration 6500 1.1388068496070012\n",
      "Loss at iteration 7000 1.4756960790892877\n",
      "Loss at iteration 7500 3.7129896430604767\n",
      "Loss at iteration 8000 1.7589306505186568\n",
      "Loss at iteration 8500 2.5390790862662302\n",
      "time taken: 1.5105969905853271\n",
      "Final Training Loss: 2.074559553800904\n",
      "🏃 View run reg-Normal-method-minibatch-alpha-0.01 at: http://127.0.0.1:5000/#/experiments/433389547919655421/runs/e93458b500244e7490f2bbf56adc05fa\n",
      "🧪 View experiment at: http://127.0.0.1:5000/#/experiments/433389547919655421\n",
      "==============================\n",
      "Normal minibatch\n",
      "alpha: 0.001\n",
      "==============================\n",
      "Loss at iteration 0 1.7539345405447353\n",
      "Loss at iteration 500 0.8969115319918838\n",
      "Loss at iteration 1000 0.9204938064205037\n",
      "Loss at iteration 1500 0.925944170663327\n",
      "Loss at iteration 2000 0.9238376855826512\n",
      "Loss at iteration 2500 0.8992172174008134\n",
      "Loss at iteration 3000 0.9336739457575776\n",
      "Loss at iteration 3500 0.9119803397765683\n",
      "Loss at iteration 4000 0.9132205514216319\n",
      "Loss at iteration 4500 0.9154325455011431\n",
      "Loss at iteration 5000 0.9107775226105707\n",
      "Loss at iteration 5500 0.9092955757408921\n",
      "Loss at iteration 6000 0.9028383606496905\n",
      "Loss at iteration 6500 0.9108412428322117\n",
      "Loss at iteration 7000 0.9114274677802676\n",
      "Loss at iteration 7500 0.9026785183936975\n",
      "Loss at iteration 8000 0.9072361965916605\n",
      "Loss at iteration 8500 0.9227551451165382\n",
      "time taken: 1.3731529712677002\n",
      "Final Training Loss: 0.9094628879240244\n",
      "🏃 View run reg-Normal-method-minibatch-alpha-0.001 at: http://127.0.0.1:5000/#/experiments/433389547919655421/runs/58a0fe9f345a47e6a302dcffa8fa8ccb\n",
      "🧪 View experiment at: http://127.0.0.1:5000/#/experiments/433389547919655421\n",
      "==============================\n",
      "Normal minibatch\n",
      "alpha: 0.0001\n",
      "==============================\n",
      "Loss at iteration 0 1.5915886018996181\n",
      "Loss at iteration 500 0.9076603194773418\n",
      "Loss at iteration 1000 0.8967670464580481\n",
      "Loss at iteration 1500 0.9142873830451659\n",
      "Loss at iteration 2000 0.9080093710798101\n",
      "Loss at iteration 2500 0.9021137098632448\n",
      "Loss at iteration 3000 0.9135118022702207\n",
      "Loss at iteration 3500 0.8997112419214763\n",
      "Loss at iteration 4000 0.9065253525683454\n",
      "Loss at iteration 4500 0.9140310415882694\n",
      "Loss at iteration 5000 1.5005597297071989\n",
      "Loss at iteration 5500 0.8994470248185461\n",
      "Loss at iteration 6000 0.9080833972544429\n",
      "Loss at iteration 6500 0.9296563436518863\n",
      "Loss at iteration 7000 0.9043052816782282\n",
      "Loss at iteration 7500 0.9133527461085359\n",
      "Loss at iteration 8000 0.9064233860314204\n",
      "Loss at iteration 8500 0.9109688987428411\n",
      "time taken: 1.2874171733856201\n",
      "Final Training Loss: 0.927510330018878\n",
      "🏃 View run reg-Normal-method-minibatch-alpha-0.0001 at: http://127.0.0.1:5000/#/experiments/433389547919655421/runs/a3773c7194894f689366d57f17e9686e\n",
      "🧪 View experiment at: http://127.0.0.1:5000/#/experiments/433389547919655421\n",
      "🏃 View run reg-Normal-method-minibatch at: http://127.0.0.1:5000/#/experiments/433389547919655421/runs/3a4b719eb0c644c9b0b6031a219bd31d\n",
      "🧪 View experiment at: http://127.0.0.1:5000/#/experiments/433389547919655421\n",
      "==============================\n",
      "Normal sto\n",
      "alpha: 0.01\n",
      "==============================\n",
      "Loss at iteration 0 0.9691984838123224\n",
      "Loss at iteration 500 0.9750387783960439\n",
      "Loss at iteration 1000 0.7718034976782573\n",
      "Loss at iteration 1500 1.0732222087606784\n",
      "Loss at iteration 2000 0.4107166541618326\n",
      "Loss at iteration 2500 0.30022822148941264\n",
      "Loss at iteration 3000 0.6201987679473567\n",
      "Loss at iteration 3500 1.3950366958443412\n",
      "Loss at iteration 4000 1.6826662670869812\n",
      "Loss at iteration 4500 0.02350016318431894\n",
      "Loss at iteration 5000 1.2781010077746824\n",
      "Loss at iteration 5500 0.8903849527601034\n",
      "Loss at iteration 6000 1.3867883402386645\n",
      "Loss at iteration 6500 0.07035577821544459\n",
      "Loss at iteration 7000 1.3482584049485842\n",
      "Loss at iteration 7500 0.2588430129115258\n",
      "Loss at iteration 8000 0.06423577280537211\n",
      "Loss at iteration 8500 1.2733741944382713\n",
      "time taken: 0.2714109420776367\n",
      "Final Training Loss: 0.535828569054217\n",
      "🏃 View run reg-Normal-method-sto-alpha-0.01 at: http://127.0.0.1:5000/#/experiments/433389547919655421/runs/95b58f678cac4838a750c787671275af\n",
      "🧪 View experiment at: http://127.0.0.1:5000/#/experiments/433389547919655421\n",
      "==============================\n",
      "Normal sto\n",
      "alpha: 0.001\n",
      "==============================\n",
      "Loss at iteration 0 0.6429341247828798\n",
      "Loss at iteration 500 2.9472057621907894\n",
      "Loss at iteration 1000 0.8891298469150691\n",
      "Loss at iteration 1500 1.475326490533507\n",
      "Loss at iteration 2000 1.0492982638483284\n",
      "Loss at iteration 2500 1.0921871584072151\n",
      "Loss at iteration 3000 0.968827984441191\n",
      "Loss at iteration 3500 1.0661669092491524\n",
      "Loss at iteration 4000 0.49375762114847976\n",
      "Loss at iteration 4500 1.1549386500969738\n",
      "Loss at iteration 5000 1.6736686182678324\n",
      "Loss at iteration 5500 0.8555681056810285\n",
      "Loss at iteration 6000 1.3384754632820752\n",
      "Loss at iteration 6500 0.1306995177286797\n",
      "Loss at iteration 7000 0.31244753315901747\n",
      "Loss at iteration 7500 0.5096721236127287\n",
      "Loss at iteration 8000 1.7341916934801673\n",
      "Loss at iteration 8500 1.427091503548092\n",
      "time taken: 0.2771930694580078\n",
      "Final Training Loss: 1.263379822461267\n",
      "🏃 View run reg-Normal-method-sto-alpha-0.001 at: http://127.0.0.1:5000/#/experiments/433389547919655421/runs/c9d71c872e014ba7b32dc1eb08941aad\n",
      "🧪 View experiment at: http://127.0.0.1:5000/#/experiments/433389547919655421\n",
      "==============================\n",
      "Normal sto\n",
      "alpha: 0.0001\n",
      "==============================\n",
      "Loss at iteration 0 1.5408488415705364\n",
      "Loss at iteration 500 1.4246683982825472\n",
      "Loss at iteration 1000 1.151474327051664\n",
      "Loss at iteration 1500 1.2387135943792942\n",
      "Loss at iteration 2000 1.1355570707820932\n",
      "Loss at iteration 2500 1.0776031446553866\n",
      "Loss at iteration 3000 0.4964392646132837\n",
      "Loss at iteration 3500 1.772886875445497\n",
      "Loss at iteration 4000 1.401794684184244\n",
      "Loss at iteration 4500 1.111123589105504\n",
      "Loss at iteration 5000 1.2744874823372525\n",
      "Loss at iteration 5500 1.2544450157914662\n",
      "Loss at iteration 6000 0.4871042599371405\n",
      "Loss at iteration 6500 0.5831342505345093\n",
      "Loss at iteration 7000 1.4654754330326407\n",
      "Loss at iteration 7500 1.5353524048961265\n",
      "Loss at iteration 8000 1.110789434149858\n",
      "Loss at iteration 8500 0.9389906714739364\n",
      "time taken: 0.2626209259033203\n",
      "Final Training Loss: 0.7782564909870682\n",
      "🏃 View run reg-Normal-method-sto-alpha-0.0001 at: http://127.0.0.1:5000/#/experiments/433389547919655421/runs/af010dc58a714f2d9dcb4a8db361a2eb\n",
      "🧪 View experiment at: http://127.0.0.1:5000/#/experiments/433389547919655421\n",
      "🏃 View run reg-Normal-method-sto at: http://127.0.0.1:5000/#/experiments/433389547919655421/runs/c1de65b3ae884fb1801c5000aa0d9a42\n",
      "🧪 View experiment at: http://127.0.0.1:5000/#/experiments/433389547919655421\n",
      "==============================\n",
      "Ridge batch\n",
      "alpha: 0.01\n",
      "==============================\n",
      "Loss at iteration 0 1.6739232402543769\n",
      "Loss at iteration 500 7.597984290451243\n",
      "Loss at iteration 1000 7.602637142394129\n",
      "Loss at iteration 1500 7.593729468233995\n",
      "Loss at iteration 2000 7.603859528709484\n",
      "Loss at iteration 2500 7.593729348970531\n",
      "Loss at iteration 3000 7.60385952872543\n",
      "Loss at iteration 3500 7.5937293489705455\n",
      "Loss at iteration 4000 7.603859528725432\n",
      "Loss at iteration 4500 7.593729348970538\n",
      "Loss at iteration 5000 7.603859528725438\n",
      "Loss at iteration 5500 7.593729348970534\n",
      "Loss at iteration 6000 7.603859528725435\n",
      "Loss at iteration 6500 7.593729348970542\n",
      "Loss at iteration 7000 7.603859528725429\n",
      "Loss at iteration 7500 7.593729348970534\n",
      "Loss at iteration 8000 7.603859528725435\n",
      "Loss at iteration 8500 7.593729348970543\n",
      "time taken: 5.7401652336120605\n",
      "Final Training Loss: 10.209057399126877\n",
      "🏃 View run reg-Ridge-method-batch-alpha-0.01 at: http://127.0.0.1:5000/#/experiments/433389547919655421/runs/cd390eae2a714cdfbb618c4080b0292d\n",
      "🧪 View experiment at: http://127.0.0.1:5000/#/experiments/433389547919655421\n",
      "==============================\n",
      "Ridge batch\n",
      "alpha: 0.001\n",
      "==============================\n",
      "Loss at iteration 0 1.669477460099264\n",
      "Loss at iteration 500 1.032155131557411\n",
      "Loss at iteration 1000 1.032155131557411\n",
      "Loss at iteration 1500 1.032155131557411\n",
      "Loss at iteration 2000 1.032155131557411\n",
      "Loss at iteration 2500 1.032155131557411\n",
      "Loss at iteration 3000 1.032155131557411\n",
      "Loss at iteration 3500 1.032155131557411\n",
      "Loss at iteration 4000 1.032155131557411\n",
      "Loss at iteration 4500 1.032155131557411\n",
      "Loss at iteration 5000 1.032155131557411\n",
      "Loss at iteration 5500 1.032155131557411\n",
      "Loss at iteration 6000 1.032155131557411\n",
      "Loss at iteration 6500 1.032155131557411\n",
      "Loss at iteration 7000 1.032155131557411\n",
      "Loss at iteration 7500 1.032155131557411\n",
      "Loss at iteration 8000 1.032155131557411\n",
      "Loss at iteration 8500 1.032155131557411\n",
      "time taken: 4.9785449504852295\n",
      "Final Training Loss: 1.0796660847611494\n",
      "🏃 View run reg-Ridge-method-batch-alpha-0.001 at: http://127.0.0.1:5000/#/experiments/433389547919655421/runs/7b42d637d4114421a137012be070eee1\n",
      "🧪 View experiment at: http://127.0.0.1:5000/#/experiments/433389547919655421\n",
      "==============================\n",
      "Ridge batch\n",
      "alpha: 0.0001\n",
      "==============================\n",
      "Loss at iteration 0 1.3371199632823116\n",
      "Loss at iteration 500 0.9139771993005021\n",
      "Loss at iteration 1000 0.913976106172672\n",
      "Loss at iteration 1500 0.9139761027871001\n",
      "Loss at iteration 2000 0.9139761027717005\n",
      "Loss at iteration 2500 0.91397610277163\n",
      "Loss at iteration 3000 0.9139761027716297\n",
      "Loss at iteration 3500 0.9139761027716297\n",
      "Loss at iteration 4000 0.9139761027716297\n",
      "Loss at iteration 4500 0.9139761027716297\n",
      "Loss at iteration 5000 0.9139761027716299\n",
      "Loss at iteration 5500 0.9139761027716297\n",
      "Loss at iteration 6000 0.9139761027716299\n",
      "Loss at iteration 6500 0.9139761027716297\n",
      "Loss at iteration 7000 0.9139761027716297\n",
      "Loss at iteration 7500 0.9139761027716297\n",
      "Loss at iteration 8000 0.9139761027716297\n",
      "Loss at iteration 8500 0.9139761027716297\n",
      "time taken: 4.759397029876709\n",
      "Final Training Loss: 0.9139761027716299\n",
      "🏃 View run reg-Ridge-method-batch-alpha-0.0001 at: http://127.0.0.1:5000/#/experiments/433389547919655421/runs/8fe37d9be47d4a879b454ec1141e97bc\n",
      "🧪 View experiment at: http://127.0.0.1:5000/#/experiments/433389547919655421\n",
      "🏃 View run reg-Ridge-method-batch at: http://127.0.0.1:5000/#/experiments/433389547919655421/runs/95a5a96318ba4d7e906ac930f43feddd\n",
      "🧪 View experiment at: http://127.0.0.1:5000/#/experiments/433389547919655421\n",
      "==============================\n",
      "Ridge minibatch\n",
      "alpha: 0.01\n",
      "==============================\n",
      "Loss at iteration 0 1.5920898999013093\n",
      "Loss at iteration 500 2.304656387241144\n",
      "Loss at iteration 1000 3.0805119360636564\n",
      "Loss at iteration 1500 2.1369619094219225\n",
      "Loss at iteration 2000 1.843485001704211\n",
      "Loss at iteration 2500 2.352849181357511\n",
      "Loss at iteration 3000 3.640806479767944\n",
      "Loss at iteration 3500 2.1072504825416933\n",
      "Loss at iteration 4000 2.5696100168411298\n",
      "Loss at iteration 4500 2.4271370369767373\n",
      "Loss at iteration 5000 3.6834386864697097\n",
      "Loss at iteration 5500 1.266430831607545\n",
      "Loss at iteration 6000 2.926302050977512\n",
      "Loss at iteration 6500 3.011522852976725\n",
      "Loss at iteration 7000 2.62300315662695\n",
      "Loss at iteration 7500 3.365666213989229\n",
      "Loss at iteration 8000 2.75049949853832\n",
      "Loss at iteration 8500 1.3143473942781976\n",
      "time taken: 1.5163371562957764\n",
      "Final Training Loss: 2.6110940459961034\n",
      "🏃 View run reg-Ridge-method-minibatch-alpha-0.01 at: http://127.0.0.1:5000/#/experiments/433389547919655421/runs/b9db347ccc3f4558b0f1578f1a872328\n",
      "🧪 View experiment at: http://127.0.0.1:5000/#/experiments/433389547919655421\n",
      "==============================\n",
      "Ridge minibatch\n",
      "alpha: 0.001\n",
      "==============================\n",
      "Loss at iteration 0 1.5965813543147755\n",
      "Loss at iteration 500 0.8985403080521918\n",
      "Loss at iteration 1000 0.9003942327635253\n",
      "Loss at iteration 1500 0.9039568665783786\n",
      "Loss at iteration 2000 0.9194961240473359\n",
      "Loss at iteration 2500 0.9107887974031078\n",
      "Loss at iteration 3000 0.9267169397837323\n",
      "Loss at iteration 3500 0.9073848890037292\n",
      "Loss at iteration 4000 0.9348603824570999\n",
      "Loss at iteration 4500 0.9038308273993758\n",
      "Loss at iteration 5000 0.926881926245127\n",
      "Loss at iteration 5500 0.9043432087147917\n",
      "Loss at iteration 6000 0.9107017555556199\n",
      "Loss at iteration 6500 0.9084249744514269\n",
      "Loss at iteration 7000 0.9033077580498357\n",
      "Loss at iteration 7500 0.9212541982174217\n",
      "Loss at iteration 8000 0.9308816346877787\n",
      "Loss at iteration 8500 0.9120330692638816\n",
      "time taken: 1.3872871398925781\n",
      "Final Training Loss: 0.9035835491394727\n",
      "🏃 View run reg-Ridge-method-minibatch-alpha-0.001 at: http://127.0.0.1:5000/#/experiments/433389547919655421/runs/f7d87742309d46f4b6a3a830257af81e\n",
      "🧪 View experiment at: http://127.0.0.1:5000/#/experiments/433389547919655421\n",
      "==============================\n",
      "Ridge minibatch\n",
      "alpha: 0.0001\n",
      "==============================\n",
      "Loss at iteration 0 1.5709129388294218\n",
      "Loss at iteration 500 0.9056570988999187\n",
      "Loss at iteration 1000 0.9000595510134476\n",
      "Loss at iteration 1500 0.9051735423087826\n",
      "Loss at iteration 2000 0.9084779970234294\n",
      "Loss at iteration 2500 0.9172086023550325\n",
      "Loss at iteration 3000 0.9138765446363315\n",
      "Loss at iteration 3500 0.9042271755420169\n",
      "Loss at iteration 4000 0.9288317190692706\n",
      "Loss at iteration 4500 0.9011697750637968\n",
      "Loss at iteration 5000 0.9112532533141715\n",
      "Loss at iteration 5500 0.9103434317031891\n",
      "Loss at iteration 6000 0.9106536342206606\n",
      "Loss at iteration 6500 0.9134383298029386\n",
      "Loss at iteration 7000 0.9066917496729442\n",
      "Loss at iteration 7500 0.9094545399353052\n",
      "Loss at iteration 8000 0.9146823744811279\n",
      "Loss at iteration 8500 0.9183362952196681\n",
      "time taken: 1.343696117401123\n",
      "Final Training Loss: 0.9065588614367103\n",
      "🏃 View run reg-Ridge-method-minibatch-alpha-0.0001 at: http://127.0.0.1:5000/#/experiments/433389547919655421/runs/8a02ee59c24546a1af9b2d368470df9f\n",
      "🧪 View experiment at: http://127.0.0.1:5000/#/experiments/433389547919655421\n",
      "🏃 View run reg-Ridge-method-minibatch at: http://127.0.0.1:5000/#/experiments/433389547919655421/runs/a2afadf35c464f1b8a366263fd720a21\n",
      "🧪 View experiment at: http://127.0.0.1:5000/#/experiments/433389547919655421\n",
      "==============================\n",
      "Ridge sto\n",
      "alpha: 0.01\n",
      "==============================\n",
      "Loss at iteration 0 1.8183589627312593\n",
      "Loss at iteration 500 0.8680952938715554\n",
      "Loss at iteration 1000 0.8429971760876048\n",
      "Loss at iteration 1500 1.2250253978769428\n",
      "Loss at iteration 2000 1.3966599089047522\n",
      "Loss at iteration 2500 1.2962287750076984\n",
      "Loss at iteration 3000 0.49506127872137273\n",
      "Loss at iteration 3500 1.2519022962845352\n",
      "Loss at iteration 4000 0.6852420637675168\n",
      "Loss at iteration 4500 0.8702082811617052\n",
      "Loss at iteration 5000 0.9917514082164232\n",
      "Loss at iteration 5500 1.2366245368314772\n",
      "Loss at iteration 6000 0.579832522911062\n",
      "Loss at iteration 6500 1.4117002552997198\n",
      "Loss at iteration 7000 1.3069916774434072\n",
      "Loss at iteration 7500 0.493571368839584\n",
      "Loss at iteration 8000 1.3338599124239523\n",
      "Loss at iteration 8500 1.2519015162283635\n",
      "time taken: 0.26923489570617676\n",
      "Final Training Loss: 0.3363091271470218\n",
      "🏃 View run reg-Ridge-method-sto-alpha-0.01 at: http://127.0.0.1:5000/#/experiments/433389547919655421/runs/02109e2cf45f4d4c8943603e565c6875\n",
      "🧪 View experiment at: http://127.0.0.1:5000/#/experiments/433389547919655421\n",
      "==============================\n",
      "Ridge sto\n",
      "alpha: 0.001\n",
      "==============================\n",
      "Loss at iteration 0 0.5059353046683913\n",
      "Loss at iteration 500 0.1372411133415752\n",
      "Loss at iteration 1000 1.2743122812489047\n",
      "Loss at iteration 1500 1.3942127712550834\n",
      "Loss at iteration 2000 0.6917703056462622\n",
      "Loss at iteration 2500 1.1269766337357074\n",
      "Loss at iteration 3000 0.8791782805162067\n",
      "Loss at iteration 3500 1.6827451409214653\n",
      "Loss at iteration 4000 1.3987480979443145\n",
      "Loss at iteration 4500 1.3443547563068703\n",
      "Loss at iteration 5000 1.3356517937353416\n",
      "Loss at iteration 5500 0.8889974954736171\n",
      "Loss at iteration 6000 1.282685765555973\n",
      "Loss at iteration 6500 0.910008389662345\n",
      "Loss at iteration 7000 0.8403127249250506\n",
      "Loss at iteration 7500 0.9895650821558312\n",
      "Loss at iteration 8000 1.2654050985117236\n",
      "Loss at iteration 8500 0.4713560615584398\n",
      "time taken: 0.27547287940979004\n",
      "Final Training Loss: 1.3669977051999174\n",
      "🏃 View run reg-Ridge-method-sto-alpha-0.001 at: http://127.0.0.1:5000/#/experiments/433389547919655421/runs/a35c0953ee7f4511b3b4bd4a3611155d\n",
      "🧪 View experiment at: http://127.0.0.1:5000/#/experiments/433389547919655421\n",
      "==============================\n",
      "Ridge sto\n",
      "alpha: 0.0001\n",
      "==============================\n",
      "Loss at iteration 0 1.7588973003478134\n",
      "Loss at iteration 500 1.917396855477558\n",
      "Loss at iteration 1000 1.3541377950213072\n",
      "Loss at iteration 1500 1.156366139758107\n",
      "Loss at iteration 2000 0.6588560150553865\n",
      "Loss at iteration 2500 1.3391885315990637\n",
      "Loss at iteration 3000 0.9677575862908134\n",
      "Loss at iteration 3500 1.21162932993547\n",
      "Loss at iteration 4000 1.2240936341975408\n",
      "Loss at iteration 4500 1.4114831475347598\n",
      "Loss at iteration 5000 1.1799089456621616\n",
      "Loss at iteration 5500 1.3646842703692446\n",
      "Loss at iteration 6000 1.2014028519359825\n",
      "Loss at iteration 6500 1.1554649230247942\n",
      "Loss at iteration 7000 0.8545497156046393\n",
      "Loss at iteration 7500 1.378999829865092\n",
      "Loss at iteration 8000 2.1703965673305214\n",
      "Loss at iteration 8500 1.1598717247276686\n",
      "time taken: 0.2718849182128906\n",
      "Final Training Loss: 1.4542857861928424\n"
     ]
    },
    {
     "name": "stderr",
     "output_type": "stream",
     "text": [
      "Successfully registered model 'st124963-a3-model'.\n",
      "2025/03/29 15:27:13 INFO mlflow.store.model_registry.abstract_store: Waiting up to 300 seconds for model version to finish creation. Model name: st124963-a3-model, version 1\n"
     ]
    },
    {
     "name": "stdout",
     "output_type": "stream",
     "text": [
      "🏃 View run reg-Ridge-method-sto-alpha-0.0001 at: http://127.0.0.1:5000/#/experiments/433389547919655421/runs/3fd064d309df469cbd4535d3d47ac743\n",
      "🧪 View experiment at: http://127.0.0.1:5000/#/experiments/433389547919655421\n",
      "🏃 View run reg-Ridge-method-sto at: http://127.0.0.1:5000/#/experiments/433389547919655421/runs/78f37e792b774f34a6e5e9b31b3ec10e\n",
      "🧪 View experiment at: http://127.0.0.1:5000/#/experiments/433389547919655421\n",
      "\n",
      "Registered Model: st124963-a3-model (Version: 1)\n",
      "Model 1 is now in Staging.\n"
     ]
    },
    {
     "name": "stderr",
     "output_type": "stream",
     "text": [
      "Created version '1' of model 'st124963-a3-model'.\n"
     ]
    }
   ],
   "source": [
    "from mlflow.tracking import MlflowClient\n",
    "\n",
    "regs = [\"Normal\", \"Ridge\"]\n",
    "methods = [\"batch\", \"minibatch\", \"sto\"]\n",
    "alphas = [0.01, 0.001, 0.0001]\n",
    "best_model = None\n",
    "best_train_loss = float('inf')\n",
    "best_reg_name = \"\"\n",
    "best_method = \"\"\n",
    "best_mlrun_id = None\n",
    "\n",
    "try:\n",
    "    for reg in regs:\n",
    "        for method in methods:\n",
    "            with mlflow.start_run(run_name=f\"reg-{reg}-method-{method}\", nested=True):\n",
    "\n",
    "                for alpha in alphas:\n",
    "                    if reg == \"Normal\":\n",
    "                        params = {\"k\": k, \"n\":X_train.shape[1], \"method\": method, \"alpha\": alpha, \"max_iter\": 9000}\n",
    "                    else:\n",
    "                        params = {\"k\": k, \"n\":X_train.shape[1], \"method\": method, \"l\": 0.1, \"alpha\": alpha, \"max_iter\": 9000}\n",
    "                    \n",
    "                    with mlflow.start_run(run_name=f\"reg-{reg}-method-{params['method']}-alpha-{params['alpha']}\", nested=True):\n",
    "                        print(\"=\"*30)\n",
    "                        print(reg, method)\n",
    "                        print(f\"alpha: {alpha}\")\n",
    "                        print(\"=\"*30)\n",
    "                        type_of_regression = str_to_class(reg)\n",
    "                        model = type_of_regression(**params)  \n",
    "                        model.fit(X_train, Y_train_encoded)\n",
    "                        yhat = model.predict(X_test)\n",
    "\n",
    "                        accuracy = model.accuracy(y_test, yhat)\n",
    "                        mlflow.log_metric(key=\"accuracy\", value=accuracy)\n",
    "\n",
    "                        for c in range(k):\n",
    "                            f1 = model.f1_score(y_test, yhat, c)\n",
    "                            precision = model.precision(y_test, yhat, c)\n",
    "                            recall = model.recall(y_test, yhat, c)\n",
    "                            mlflow.log_metric(key=f\"class_{c}_f1\", value=f1)\n",
    "                            mlflow.log_metric(key=f\"class_{c}_recall\", value=recall)\n",
    "                            mlflow.log_metric(key=f\"class_{c}_precision\", value=precision)\n",
    "                        \n",
    "                        final_train_loss = model.losses[-1]\n",
    "                        print(f\"Final Training Loss: {final_train_loss}\")\n",
    "                        \n",
    "                        if final_train_loss < best_train_loss:\n",
    "                            best_train_loss = final_train_loss\n",
    "                            best_model = model\n",
    "                            best_reg_name = reg\n",
    "                            best_method = method\n",
    "                            best_mlrun_id = mlflow.active_run().info.run_id\n",
    "\n",
    "                        signature = mlflow.models.infer_signature(X_train, model.predict(X_train))\n",
    "                        mlflow.sklearn.log_model(model, artifact_path='model', signature=signature)   \n",
    "\n",
    "            mlflow.end_run()\n",
    "\n",
    "    mlflow.end_run()\n",
    "\n",
    "    # Register the best model in MLflow Model Registry\n",
    "    if best_mlrun_id:\n",
    "        uri = f\"runs:/{best_mlrun_id}/model\"\n",
    "        model_name = \"st124963-a3-model\"\n",
    "\n",
    "        model_v = mlflow.register_model(uri, model_name)\n",
    "        print(f\"\\nRegistered Model: {model_name} (Version: {model_v.version})\")\n",
    "\n",
    "        ml_client = MlflowClient()\n",
    "        latest_v = ml_client.get_latest_versions(model_name, stages=[\"None\"])[0].version\n",
    "\n",
    "        ml_client.transition_model_version_stage(name=model_name, version=latest_v, stage=\"Staging\")\n",
    "        print(f\"Model {latest_v} is now in Staging.\")\n",
    "\n",
    "except Exception as e:\n",
    "    print(\"Exception: \", e)"
   ]
  },
  {
   "cell_type": "code",
   "execution_count": 92,
   "metadata": {},
   "outputs": [
    {
     "name": "stdout",
     "output_type": "stream",
     "text": [
      "Best model is:\n",
      "Regularization: Ridge\n",
      "Method: sto\n",
      "Final Training loss: 0.3363091271470218\n"
     ]
    }
   ],
   "source": [
    "print(\"Best model is:\")\n",
    "print(\"Regularization:\", best_reg_name)\n",
    "print(\"Method:\", best_method)\n",
    "print(\"Final Training loss:\", best_train_loss)\n",
    "\n",
    "# Best model:\n",
    "# Regularization Ridge\n",
    "# Method sto\n",
    "# Final Training loss 0.5291634835252759"
   ]
  },
  {
   "cell_type": "code",
   "execution_count": 93,
   "metadata": {},
   "outputs": [
    {
     "data": {
      "image/png": "[encoded data removed]",
      "text/plain": [
       "<Figure size 640x480 with 1 Axes>"
      ]
     },
     "metadata": {},
     "output_type": "display_data"
    }
   ],
   "source": [
    "# Visualizing the loss graph\n",
    "best_model.plot()\n",
    "plt.show()"
   ]
  },
  {
   "cell_type": "code",
   "execution_count": 94,
   "metadata": {},
   "outputs": [
    {
     "name": "stdout",
     "output_type": "stream",
     "text": [
      "****** Custom Classification report ******\n",
      "         precision    recall  f1-score\n",
      "0         0.612311  0.920455  0.735409\n",
      "1         0.493506  0.061789  0.109827\n",
      "2         0.457187  0.505922  0.480321\n",
      "3         0.593085  0.759796  0.666169\n",
      "accuracy                      0.560399\n",
      "macro     0.539022   0.56199  0.497931\n",
      "weighted   0.53924  0.560399  0.496250\n",
      "\n",
      "\n",
      "****** Sklearn's Classification report ******\n",
      "              precision    recall  f1-score   support\n",
      "\n",
      "           0       0.61      0.92      0.74       616\n",
      "           1       0.49      0.06      0.11       615\n",
      "           2       0.46      0.51      0.48       591\n",
      "           3       0.59      0.76      0.67       587\n",
      "\n",
      "    accuracy                           0.56      2409\n",
      "   macro avg       0.54      0.56      0.50      2409\n",
      "weighted avg       0.54      0.56      0.50      2409\n",
      "\n"
     ]
    }
   ],
   "source": [
    "yhat = best_model.predict(X_test)\n",
    "\n",
    "# Custom classification report\n",
    "custom_classification_report = best_model.classification_report(y_test, yhat)\n",
    "print(\"*\" * 6, \"Custom Classification report\", \"*\" * 6)\n",
    "print(custom_classification_report)\n",
    "\n",
    "# Sklearn's classification report\n",
    "sklearn_report = skl_classification_report(y_test, yhat)\n",
    "print(\"\\n\")\n",
    "print(\"*\" * 6, \"Sklearn's Classification report\", \"*\" * 6)\n",
    "print(sklearn_report)"
   ]
  },
  {
   "cell_type": "markdown",
   "metadata": {},
   "source": [
    "#### Inference"
   ]
  },
  {
   "cell_type": "code",
   "execution_count": 95,
   "metadata": {},
   "outputs": [],
   "source": [
    "import pickle\n",
    "\n",
    "model_path = './model/a3_model.model'\n",
    "pickle.dump(best_model, open(model_path, 'wb'))"
   ]
  },
  {
   "cell_type": "code",
   "execution_count": 96,
   "metadata": {},
   "outputs": [],
   "source": [
    "scaler_path = './model/a3_scaler.model'\n",
    "pickle.dump(scaler, open(scaler_path, 'wb'))"
   ]
  },
  {
   "cell_type": "code",
   "execution_count": 97,
   "metadata": {},
   "outputs": [],
   "source": [
    "loaded_model = pickle.load(open(f\"{model_path}\", 'rb'))"
   ]
  },
  {
   "cell_type": "code",
   "execution_count": 100,
   "metadata": {},
   "outputs": [],
   "source": [
    "model_name = \"st124963-a3-model\"\n",
    "model_version = 1\n",
    "\n",
    "model = mlflow.pyfunc.load_model(model_uri=f\"models:/{model_name}/{model_version}\")"
   ]
  },
  {
   "cell_type": "code",
   "execution_count": 101,
   "metadata": {},
   "outputs": [
    {
     "data": {
      "text/plain": [
       "array([2, 0, 0, 2, 3, 3, 3, 0, 2, 0, 2, 0, 0, 2, 3])"
      ]
     },
     "execution_count": 101,
     "metadata": {},
     "output_type": "execute_result"
    }
   ],
   "source": [
    "precited_selling_price= model.predict(pd.DataFrame(X_test))\n",
    "precited_selling_price[:15]"
   ]
  },
  {
   "cell_type": "code",
   "execution_count": 102,
   "metadata": {},
   "outputs": [
    {
     "data": {
      "text/plain": [
       "array([2, 0, 0, 1, 2, 1, 3, 0, 2, 0, 3, 0, 1, 2, 3])"
      ]
     },
     "execution_count": 102,
     "metadata": {},
     "output_type": "execute_result"
    }
   ],
   "source": [
    "# The actual values of y\n",
    "y_test[:15]"
   ]
  },
  {
   "cell_type": "markdown",
   "metadata": {},
   "source": [
    "#### Report\n",
    "\n",
    "##### Summary\n",
    "\n",
    "##### Findings"
   ]
  },
  {
   "cell_type": "markdown",
   "metadata": {},
   "source": []
  }
 ],
 "metadata": {
  "kernelspec": {
   "display_name": ".venv",
   "language": "python",
   "name": "python3"
  },
  "language_info": {
   "codemirror_mode": {
    "name": "ipython",
    "version": 3
   },
   "file_extension": ".py",
   "mimetype": "text/x-python",
   "name": "python",
   "nbconvert_exporter": "python",
   "pygments_lexer": "ipython3",
   "version": "3.9.6"
  }
 },
 "nbformat": 4,
 "nbformat_minor": 2
}
